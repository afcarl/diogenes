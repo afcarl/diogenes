{
 "metadata": {
  "name": "",
  "signature": "sha256:3db8b43ff974f6b82d07f3abb1ea663f0a51d71d45c592f287f3033f9b2b5ecc"
 },
 "nbformat": 3,
 "nbformat_minor": 0,
 "worksheets": [
  {
   "cells": [
    {
     "cell_type": "markdown",
     "metadata": {},
     "source": [
      "# The Grid Search Module\n",
      "\n",
      "The :mod:`diogenes.grid_search` module provides tools for finding the best classifier, testing classifier sensitivity to data sets, and cross-validating classifier performance. \n",
      "\n",
      "Most of the work you will do in the `grid_search` module centers around the class: :class:`diogenes.grid_search.experiment.Experiment`. \n",
      "\n",
      "An `Experiment` exhaustively fits a number of different classifiers to different data and measures performance. The Experiment searches across a number of dimensions:\n",
      "\n",
      "1. *Classifiers* and hyper-parameters\n",
      "2. Different *subsets* of data to classify\n",
      "3. Different ways to cross-validate a subset of the data (*partition iterators*)\n",
      "\n",
      "Subsets are distinct from partition iterators in that subsets select the portion of the data that will be used for both training and testing, while partition iterators take the data given by the subset and splits it into training and testing sets.\n",
      "\n",
      "We will begin by exploring classifiers, and we will explore subsets and partition iterators later."
     ]
    },
    {
     "cell_type": "markdown",
     "metadata": {},
     "source": [
      "## Experiments, Classifiers and Hyperparameters\n",
      "\n",
      "We start by preparing the wine data set for binary classification"
     ]
    },
    {
     "cell_type": "code",
     "collapsed": false,
     "input": [
      "%matplotlib inline\n",
      "import diogenes\n",
      "import numpy as np\n",
      "data = diogenes.read.open_csv_url(\n",
      "    'http://archive.ics.uci.edu/ml/machine-learning-databases/wine-quality/winequality-white.csv',\n",
      "    delimiter=';')\n",
      "labels = data['quality']\n",
      "labels = labels < np.average(labels)\n",
      "M = diogenes.modify.remove_cols(data, 'quality')"
     ],
     "language": "python",
     "metadata": {},
     "outputs": [],
     "prompt_number": 2
    },
    {
     "cell_type": "markdown",
     "metadata": {},
     "source": [
      "We then design an experiment that fits data against Random Forest and SVC with a number of hyperparameters:"
     ]
    },
    {
     "cell_type": "code",
     "collapsed": false,
     "input": [
      "from sklearn.ensemble import RandomForestClassifier\n",
      "from sklearn.svm import SVC\n",
      "clfs = [{'clf': RandomForestClassifier, 'n_estimators': [10,50],\n",
      "         'max_features': ['sqrt','log2'], 'random_state': [0]},\n",
      "        {'clf': SVC, 'C': [0.1, 1.0, 10], 'kernel': ['linear', 'rbf'], \n",
      "         'max_iter': [1000], 'random_state': [0]}]"
     ],
     "language": "python",
     "metadata": {},
     "outputs": [],
     "prompt_number": 3
    },
    {
     "cell_type": "markdown",
     "metadata": {},
     "source": [
      "This experiment will fit the data to one classifier for each element in the Cartesian product of the parameters that we passed in. It's equivalent to creating all the following classifiers:\n",
      "\n",
      "    RandomForestClassifier(n_estimators=10, max_features='sqrt', random_state=0)\n",
      "    RandomForestClassifier(n_estimators=10, max_features='log2', random_state=0)\n",
      "    RandomForestClassifier(n_estimators=50, max_features='sqrt', random_state=0)\n",
      "    RandomForestClassifier(n_estimators=50, max_features='log2', random_state=0)\n",
      "    SVC(C=0.1, kernel=linear, max_iter=1000, random_state=0)\n",
      "    SVC(C=0.1, kernel=rbf, max_iter=1000, random_state=0)\n",
      "    SVC(C=1.0, kernel=linear, max_iter=1000, random_state=0)\n",
      "    SVC(C=1.0, kernel=rbf, max_iter=1000, random_state=0)\n",
      "    SVC(C=10, kernel=linear, max_iter=1000, random_state=0)\n",
      "    SVC(C=10, kernel=rbf, max_iter=1000, random_state=0)\n",
      "    \n",
      "See :class:`diogenes.grid_search.experiment.Experiment` for details on how arguments to `Experiment` work.\n",
      "\n",
      "We can then create and run our experiment, and look at scores to see which classifier and which hyperparameters performed the best."
     ]
    },
    {
     "cell_type": "code",
     "collapsed": false,
     "input": [
      "exp = diogenes.grid_search.experiment.Experiment(M, labels, clfs=clfs)\n",
      "exp.run()\n",
      "sorted_trial_with_score = sorted(exp.average_score().iteritems(), key=lambda x: x[1], reverse=True)\n",
      "\n",
      "for trial, score in sorted_trial_with_score[:3]:\n",
      "    print trial\n",
      "    print score\n",
      "    print"
     ],
     "language": "python",
     "metadata": {},
     "outputs": [
      {
       "output_type": "stream",
       "stream": "stdout",
       "text": [
        "Trial(clf=<class 'sklearn.ensemble.forest.RandomForestClassifier'>, clf_params={'n_estimators': 50, 'max_features': 'sqrt', 'random_state': 0}, subset=<class 'diogenes.grid_search.subset.SubsetNoSubset'>, subset_params={}, cv=<class 'sklearn.cross_validation.KFold'>, cv_params={})\n",
        "0.740104773283\n",
        "\n",
        "Trial(clf=<class 'sklearn.ensemble.forest.RandomForestClassifier'>, clf_params={'n_estimators': 50, 'max_features': 'log2', 'random_state': 0}, subset=<class 'diogenes.grid_search.subset.SubsetNoSubset'>, subset_params={}, cv=<class 'sklearn.cross_validation.KFold'>, cv_params={})\n",
        "0.740104773283\n",
        "\n",
        "Trial(clf=<class 'sklearn.ensemble.forest.RandomForestClassifier'>, clf_params={'n_estimators': 10, 'max_features': 'sqrt', 'random_state': 0}, subset=<class 'diogenes.grid_search.subset.SubsetNoSubset'>, subset_params={}, cv=<class 'sklearn.cross_validation.KFold'>, cv_params={})\n",
        "0.730916098323\n",
        "\n"
       ]
      },
      {
       "output_type": "stream",
       "stream": "stderr",
       "text": [
        "/Library/Python/2.7/site-packages/sklearn/svm/base.py:204: ConvergenceWarning: Solver terminated early (max_iter=1000).  Consider pre-processing your data with StandardScaler or MinMaxScaler.\n",
        "  % self.max_iter, ConvergenceWarning)\n",
        "/Library/Python/2.7/site-packages/sklearn/svm/base.py:204: ConvergenceWarning: Solver terminated early (max_iter=1000).  Consider pre-processing your data with StandardScaler or MinMaxScaler.\n",
        "  % self.max_iter, ConvergenceWarning)\n",
        "/Library/Python/2.7/site-packages/sklearn/svm/base.py:204: ConvergenceWarning: Solver terminated early (max_iter=1000).  Consider pre-processing your data with StandardScaler or MinMaxScaler.\n",
        "  % self.max_iter, ConvergenceWarning)\n"
       ]
      }
     ],
     "prompt_number": 10
    },
    {
     "cell_type": "markdown",
     "metadata": {},
     "source": [
      "It looks like our best-performing classifier is `RandomForest` with `n_estimators=50` with a score of about `0.74`. We also notice that the `max_features` hyperparameter does not affect score in this case.\n",
      "\n",
      "If you want to use a standard set of classifiers rather than specifying your own, you can look use :mod:`diogenes.grid_search.standard_clfs`."
     ]
    },
    {
     "cell_type": "code",
     "collapsed": false,
     "input": [
      "exp = diogenes.grid_search.experiment.Experiment(M, labels, clfs=diogenes.grid_search.standard_clfs.std_clfs)\n",
      "exp.run()\n",
      "sorted_trial_with_score = sorted(exp.average_score().iteritems(), key=lambda x: x[1], reverse=True)\n",
      "\n",
      "for trial, score in sorted_trial_with_score[:3]:\n",
      "    print trial\n",
      "    print score\n",
      "    print"
     ],
     "language": "python",
     "metadata": {},
     "outputs": [
      {
       "output_type": "stream",
       "stream": "stdout",
       "text": [
        "Trial(clf=<class 'sklearn.ensemble.forest.RandomForestClassifier'>, clf_params={'n_estimators': 50, 'max_features': 'sqrt', 'n_jobs': 1, 'max_depth': 7}, subset=<class 'diogenes.grid_search.subset.SubsetNoSubset'>, subset_params={}, cv=<class 'sklearn.cross_validation.KFold'>, cv_params={})\n",
        "0.758686871871\n",
        "\n",
        "Trial(clf=<class 'sklearn.ensemble.forest.RandomForestClassifier'>, clf_params={'n_estimators': 30, 'max_features': 'log2', 'n_jobs': 1, 'max_depth': 7}, subset=<class 'diogenes.grid_search.subset.SubsetNoSubset'>, subset_params={}, cv=<class 'sklearn.cross_validation.KFold'>, cv_params={})\n",
        "0.756643887908\n",
        "\n",
        "Trial(clf=<class 'sklearn.ensemble.forest.RandomForestClassifier'>, clf_params={'n_estimators': 50, 'max_features': 'log2', 'n_jobs': 1, 'max_depth': 7}, subset=<class 'diogenes.grid_search.subset.SubsetNoSubset'>, subset_params={}, cv=<class 'sklearn.cross_validation.KFold'>, cv_params={})\n",
        "0.751539429816\n",
        "\n"
       ]
      },
      {
       "output_type": "stream",
       "stream": "stderr",
       "text": [
        "/Library/Python/2.7/site-packages/sklearn/svm/base.py:204: ConvergenceWarning: Solver terminated early (max_iter=1000).  Consider pre-processing your data with StandardScaler or MinMaxScaler.\n",
        "  % self.max_iter, ConvergenceWarning)\n",
        "/Library/Python/2.7/site-packages/sklearn/svm/base.py:204: ConvergenceWarning: Solver terminated early (max_iter=1000).  Consider pre-processing your data with StandardScaler or MinMaxScaler.\n",
        "  % self.max_iter, ConvergenceWarning)\n"
       ]
      }
     ],
     "prompt_number": 11
    },
    {
     "cell_type": "markdown",
     "metadata": {},
     "source": [
      "## Subset Iterators and Partition Iterators\n",
      "\n",
      "In addition to iterating over different classifiers and hyper-parameters, we can also iterate over different subsets of data and different methods of cross validation. We'll discuss subsetters first.\n",
      "\n",
      "### Subset Iterators\n",
      "\n",
      "A Subset Iterators iterates over different subsets of the data. `Experiment` will attempt to fit all the classifiers to, and do cross-validation on, each subset. A number of these subset iterators are defined in :mod:`diogenes.grid_search.subset`, including:\n",
      "\n",
      "* :class:`diogenes.grid_search.subset.SubsetSweepNumRows`, which takes subsets with different numbers of rows, ignoring which     row has which label\n",
      "* :class:`diogenes.grid_search.subset.SubsetRandomRowsActualDistribution`, which takes a subset of data that have the same \n",
      "  frequency distribution of labels as the entire data set.\n",
      "* :class:`diogenes.grid_search.subset.SubsetRandomRowsEvenDistribution`, which takes a subset of data that have an equal number\n",
      "  of representatives with each label.\n",
      "* :class:`diogenes.grid_search.subset.SubsetSweepVaryStratification`, which varies the distribution of rows with each label.\n",
      "* :class:`diogenes.grid_search.subset.SubsetNoSubset`, which simply returns all the data rather than taking a subset. This is\n",
      "  what `Experiment` uses when you do not specify a subset iterator.\n",
      "  \n",
      "As an example, we will examine the performance of Random Forest when we provide different numbers of rows. We want to vary number of rows without varying the distribution of labels, so we will use `SubsetRandomRowsActualDistribution`."
     ]
    },
    {
     "cell_type": "code",
     "collapsed": false,
     "input": [
      "subsets = [{'subset': diogenes.grid_search.subset.SubsetRandomRowsActualDistribution,\n",
      "            'subset_size': range(1000, M.shape[0], 500),\n",
      "            'random_state': [0]}]\n",
      "exp = diogenes.grid_search.experiment.Experiment(M, labels, subsets=subsets)\n",
      "subset_size = []\n",
      "all_scores = []\n",
      "for trial, score in exp.average_score().iteritems():\n",
      "    subset_size.append(trial.subset_params['subset_size'])\n",
      "    all_scores.append(score)\n",
      "\n",
      "import matplotlib.pyplot as plt\n",
      "\n",
      "plt.plot(subset_size, all_scores, '.', markersize=10)\n",
      "plt.xlabel('subset size')\n",
      "plt.ylabel('score')\n",
      "plt.show()"
     ],
     "language": "python",
     "metadata": {},
     "outputs": [
      {
       "metadata": {},
       "output_type": "display_data",
       "png": "[encoded data removed]",
       "text": [
        "<matplotlib.figure.Figure at 0x10ba4bc90>"
       ]
      }
     ],
     "prompt_number": 28
    },
    {
     "cell_type": "markdown",
     "metadata": {},
     "source": [
      "We see a weak upward trend, but it isn't clear that Random Forest is sensitive to the size of the dataset given a constant proportion of labels."
     ]
    },
    {
     "cell_type": "markdown",
     "metadata": {},
     "source": [
      "### Partition Iterators\n",
      "\n",
      "A partition iterator is a class that iterates over train and test sets. Iterators in Scikit Learn's [cross-validation module](http://scikit-learn.org/stable/modules/cross_validation.html#cross-validation-iterators) are valid partition iterators, including:\n",
      "\n",
      "* [K-Fold cross-validation](http://scikit-learn.org/stable/modules/generated/sklearn.cross_validation.KFold.html#sklearn.cross_validation.KFold)\n",
      "* [Stratified K-Fold cross-validation](http://scikit-learn.org/stable/modules/generated/sklearn.cross_validation.StratifiedKFold.html#sklearn.cross_validation.StratifiedKFold)\n",
      "\n",
      "Here's an experiment that does 5 folds of stratified K-Fold cross validation:"
     ]
    },
    {
     "cell_type": "code",
     "collapsed": false,
     "input": [
      "from sklearn.cross_validation import StratifiedKFold\n",
      "cvs = [{'cv': StratifiedKFold, 'n_folds': [5]}]\n",
      "exp = diogenes.grid_search.experiment.Experiment(M, labels, cvs=cvs)\n",
      "exp.run()\n",
      "print exp.trials\n",
      "for run in exp.trials[0].runs_flattened():\n",
      "    print run.score()"
     ],
     "language": "python",
     "metadata": {},
     "outputs": [
      {
       "output_type": "stream",
       "stream": "stdout",
       "text": [
        "[Trial(clf=<class 'sklearn.ensemble.forest.RandomForestClassifier'>, clf_params={}, subset=<class 'diogenes.grid_search.subset.SubsetNoSubset'>, subset_params={}, cv=<class 'sklearn.cross_validation.StratifiedKFold'>, cv_params={'n_folds': 5})]\n",
        "0.712244897959\n",
        "0.714285714286\n",
        "0.747959183673\n",
        "0.738508682329\n",
        "0.757916241062\n"
       ]
      }
     ],
     "prompt_number": 31
    },
    {
     "cell_type": "markdown",
     "metadata": {},
     "source": [
      "We have 1 `Trial` with 5 `Run`s, one `Run` per fold. We discuss `Trial`s and `Run`s in more detail below."
     ]
    },
    {
     "cell_type": "markdown",
     "metadata": {},
     "source": [
      "In addition to the Scikit Learn partition iterators, we define partition iterators in :mod:`diogenes.grid_search.partition_iterator` including:\n",
      "\n",
      "#### :class:`diogenes.grid_search.partition_iterator.SlidingWindowIdx` \n",
      "\n",
      "which takes a sliding window of rows for the test set and a   sliding window of rows for the training set. For example, if we create:\n",
      "\n",
      "    cvs = [{'cv': diogenes.grid_search.partition_iterator.SlidingWindowIdx,\n",
      "            'train_start': [10],\n",
      "            'train_window_size': [20],\n",
      "            'test_start': [30],\n",
      "            'test_window_size': [20],\n",
      "            'inc_value': [10]}]\n",
      "                                                             \n",
      "then the following rows will be included in our train and test sets:\n",
      "  \n",
      "| train set start row | train set stop row | test set start row | test set stop row |\n",
      "|---------------------|--------------------|--------------------|-------------------|\n",
      "| 10                  | 30                 | 30                 | 50                |\n",
      "| 20                  | 40                 | 40                 | 60                |\n",
      "| 30                  | 50                 | 50                 | 70                |\n",
      "| ...                 | ...                | ...                | ...               |\n",
      "\n",
      "We can also set `'expanding_train': True`, which keeps the train test start row constant\n",
      "\n",
      "| train set start row | train set stop row | test set start row | test set stop row |\n",
      "|---------------------|--------------------|--------------------|-------------------|\n",
      "| 10                  | 30                 | 30                 | 50                |\n",
      "| 10                  | 40                 | 40                 | 60                |\n",
      "| 10                  | 50                 | 50                 | 70                |\n",
      "| ...                 | ...                | ...                | ...               |\n",
      "\n",
      "#### :class:`diogenes.grid_search.partition_iterator.SlidingWindowValue`\n",
      "\n",
      "`SlidingWindowValue` is similar to `SlidingWindowIdx` except instead of using row numbers as an index, it uses the value of a\n",
      "given column. The following example picks train and test sets based on the \"citric acid\" column."
     ]
    },
    {
     "cell_type": "code",
     "collapsed": false,
     "input": [
      "cvs = [{'cv': diogenes.grid_search.partition_iterator.SlidingWindowValue,\n",
      "        'guide_col_name': ['citric acid'],\n",
      "        'train_start': [0],\n",
      "        'train_window_size': [0.2],\n",
      "        'test_start': [0.2],\n",
      "        'test_window_size': [0.2],\n",
      "        'inc_value': [0.2]}]\n",
      "exp = diogenes.grid_search.experiment.Experiment(M, labels, cvs=cvs)\n",
      "exp.run()\n",
      "print exp.trials\n",
      "print exp.trials[0].runs\n",
      "for run in exp.trials[0].runs_flattened():\n",
      "    print run.score()\n",
      "\n",
      "\n",
      "print M.dtype\n",
      "col = M['citric acid']\n",
      "diogenes.display.plot_box_plot(col)"
     ],
     "language": "python",
     "metadata": {},
     "outputs": [
      {
       "output_type": "stream",
       "stream": "stdout",
       "text": [
        "[Trial(clf=<class 'sklearn.ensemble.forest.RandomForestClassifier'>, clf_params={}, subset=<class 'diogenes.grid_search.subset.SubsetNoSubset'>, subset_params={}, cv=<class 'diogenes.grid_search.partition_iterator.SlidingWindowValue'>, cv_params={'train_window_size': 0.2, 'train_start': 0, 'test_start': 0.2, 'test_window_size': 0.2, 'inc_value': 0.2, 'guide_col_name': 'citric acid'})]\n",
        "[[]]\n",
        "[('fixed acidity', '<f8'), ('volatile acidity', '<f8'), ('citric acid', '<f8'), ('residual sugar', '<f8'), ('chlorides', '<f8'), ('free sulfur dioxide', '<f8'), ('total sulfur dioxide', '<f8'), ('density', '<f8'), ('pH', '<f8'), ('sulphates', '<f8'), ('alcohol', '<f8')]\n"
       ]
      },
      {
       "metadata": {},
       "output_type": "display_data",
       "png": "[encoded data removed]",
       "text": [
        "<matplotlib.figure.Figure at 0x10c1fe650>"
       ]
      },
      {
       "metadata": {},
       "output_type": "pyout",
       "png": "[encoded data removed]",
       "prompt_number": 42,
       "text": [
        "<matplotlib.figure.Figure at 0x10c1fe650>"
       ]
      }
     ],
     "prompt_number": 42
    },
    {
     "cell_type": "markdown",
     "metadata": {},
     "source": [
      "## Trials and Runs"
     ]
    },
    {
     "cell_type": "markdown",
     "metadata": {},
     "source": [
      "## Reports"
     ]
    },
    {
     "cell_type": "code",
     "collapsed": false,
     "input": [],
     "language": "python",
     "metadata": {},
     "outputs": []
    }
   ],
   "metadata": {}
  }
 ]
}