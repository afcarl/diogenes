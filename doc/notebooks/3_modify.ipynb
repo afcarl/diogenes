{
 "metadata": {
  "name": "",
  "signature": "sha256:397ff37d3b3a17d26d91af1b8201fa4ce0370d16a0aea38700c87501b36e5c51"
 },
 "nbformat": 3,
 "nbformat_minor": 0,
 "worksheets": [
  {
   "cells": [
    {
     "cell_type": "code",
     "collapsed": false,
     "input": [
      "%matplotlib inline\n",
      "import numpy as np\n",
      "from diogenes.read import open_csv_url\n",
      "from diogenes.modify import remove_cols\n",
      "\n",
      "\n",
      "data = open_csv_url(\n",
      "            'http://archive.ics.uci.edu/ml/machine-learning-databases/wine-quality/winequality-white.csv',  \n",
      "            delimiter=';')\n",
      "labels = data['quality']\n",
      "lables = labels < np.average(labels)\n",
      "\n",
      "M = remove_cols(data, 'quality')\n",
      "\n",
      "\n"
     ],
     "language": "python",
     "metadata": {},
     "outputs": [],
     "prompt_number": 1
    },
    {
     "cell_type": "code",
     "collapsed": false,
     "input": [],
     "language": "python",
     "metadata": {},
     "outputs": []
    }
   ],
   "metadata": {}
  }
 ]
}