{
 "metadata": {
  "name": "",
  "signature": "sha256:71f768c5cfc3d24196e462701e1b067e4b77e2408e982f1213c66d06fadefb6c"
 },
 "nbformat": 3,
 "nbformat_minor": 0,
 "worksheets": [
  {
   "cells": [
    {
     "cell_type": "markdown",
     "metadata": {},
     "source": [
      "# The Read Module\n",
      "\n",
      "The :mod:`diogenes.read` module provides tools for reading data from external sources into Diogenes' preferred Numpy \n",
      "[structured array](http://docs.scipy.org/doc/numpy/user/basics.rec.html) format.\n",
      "\n",
      "The module can read from either:\n",
      "\n",
      "* A local CSV file\n",
      "* A remote CSV file\n",
      "* Any sort of SQL database\n",
      "  "
     ]
    },
    {
     "cell_type": "markdown",
     "metadata": {},
     "source": [
      "## Local CSV Files\n",
      "\n",
      "We can read local CSV files using :func:`diogenes.read.read.open_csv`. "
     ]
    }
   ],
   "metadata": {}
  }
 ]
}