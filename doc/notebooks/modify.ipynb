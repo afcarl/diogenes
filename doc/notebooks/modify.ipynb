{
 "metadata": {
  "name": "",
  "signature": "sha256:3ed98e56b239156aceadca9f8030d1c203fd96e0505ac008d4f8c476406af039"
 },
 "nbformat": 3,
 "nbformat_minor": 0,
 "worksheets": [
  {
   "cells": [
    {
     "cell_type": "markdown",
     "metadata": {},
     "source": [
      "# The Modify Module\n",
      "\n",
      ":mod:`diogenes.modify` provides tools for manipulating arrays and generating features. \n",
      "\n",
      "* Cleaning\n",
      "    * label_encode\n",
      "    * replace_missing_vals\n",
      "* Feature generation\n",
      "    * generate_bin\n",
      "    * normalize\n",
      "    * combine_cols\n",
      "    * distance_from_point\n",
      "    * where_all_are_true\n",
      "* Selection\n",
      "    * choose_cols_where\n",
      "    * choose_rows_where\n",
      "    * remove_cols_where\n",
      "    * remove_rows_where\n",
      "    * where_all_are_true\n",
      "    "
     ]
    },
    {
     "cell_type": "code",
     "collapsed": false,
     "input": [],
     "language": "python",
     "metadata": {},
     "outputs": []
    }
   ],
   "metadata": {}
  }
 ]
}