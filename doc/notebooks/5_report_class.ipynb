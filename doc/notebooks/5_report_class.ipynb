{
 "metadata": {
  "name": "",
  "signature": "sha256:56da3d0facb7e67d5b1442a353affab0dca77bdfa34499cecc74cb9cc64e9eb2"
 },
 "nbformat": 3,
 "nbformat_minor": 0,
 "worksheets": []
}