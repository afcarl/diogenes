{
 "metadata": {
  "name": "",
  "signature": "sha256:c5ba4ab1c0501f61f78b42b0298ef220883e16481cb944167708d409ebaae0db"
 },
 "nbformat": 3,
 "nbformat_minor": 0,
 "worksheets": [
  {
   "cells": [
    {
     "cell_type": "code",
     "collapsed": false,
     "input": [
      "from diogenes.grid_search import Experiment \n",
      "from diogenes.grid_search import std_clfs as std_clfs"
     ],
     "language": "python",
     "metadata": {},
     "outputs": []
    }
   ],
   "metadata": {}
  }
 ]
}