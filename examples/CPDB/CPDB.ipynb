{
 "cells": [
  {
   "cell_type": "code",
   "execution_count": 195,
   "metadata": {
    "collapsed": false
   },
   "outputs": [],
   "source": [
    "%matplotlib inline\n",
    "import diogenes.read as read\n",
    "import diogenes.display as display\n",
    "import diogenes.modify as modify\n",
    "import diogenes.utils as utils\n",
    "import numpy as np"
   ]
  },
  {
   "cell_type": "markdown",
   "metadata": {},
   "source": [
    "### Methods\n",
    "\n",
    "1. Data obtained from the [Citizens Police Data Project](cpdb.co).\n",
    "2. This data includes only the FOIA dataset from 2011 to present (i.e. the Bond and Moore datasets have been removed). \n",
    "3. This was accomplished by entering FOIA in the search bar.\n",
    "4. The resulting table was saved locally as a .xslx.\n",
    "5. The Allegations, Complaining Witnesses, and Officer Profile tabs were then saved locally as allegations.csv, citizens.csv, and officers.csv respectively.\n"
   ]
  },
  {
   "cell_type": "markdown",
   "metadata": {},
   "source": [
    "### Disclaimer\n",
    "\n",
    "The following disclaimer is included with the data by the [Invisible Institute](http://invisible.institute).\n",
    "\n",
    "\n",
    "This dataset is compiled from three lists of allegations against Chicago Police Department officers,\n",
    "spanning approximately 2002 - 2008 and 2010 - 2014, produced by the City of Chicago in response\n",
    "to litigation and to FOIA requests.\n",
    "\n",
    "The City of Chicago's production of this information is accompanied by a disclaimer that\n",
    "not all information contained in the City's database may be correct.\n",
    "\n",
    "No independent verification of the City's records has taken place and this dataset does not\n",
    "purport to be an accurate reflection of either the City's database or its veracity."
   ]
  },
  {
   "cell_type": "code",
   "execution_count": 290,
   "metadata": {
    "collapsed": false
   },
   "outputs": [],
   "source": [
    "#Record arrays\n",
    "allegations = read.open_csv('allegations.csv',parse_datetimes=['IncidentDate','StartDate','EndDate'])\n",
    "citizens = read.open_csv('citizens.csv')\n",
    "officers = read.open_csv('officers.csv')"
   ]
  },
  {
   "cell_type": "markdown",
   "metadata": {},
   "source": [
    "### What data do we have?\n",
    "\n",
    "We can see the column names for the three tables below.\n",
    "\n",
    "1. The Allegations table includes data on each allegation, including an ID for the complaint witness, the officer, and the outcome of the allegation. \n",
    "2. The Citizens table includes additional information for each complaint witness.\n",
    "3. The Officers table includes additional information for each officer."
   ]
  },
  {
   "cell_type": "code",
   "execution_count": 291,
   "metadata": {
    "collapsed": false
   },
   "outputs": [
    {
     "name": "stdout",
     "output_type": "stream",
     "text": [
      "('CRID', 'OfficerID', 'OfficeFirst', 'OfficerLast', 'AllegationCode', 'Category', 'Allegation', 'RecommendedFinding', 'RecommendedOutcome', 'FinalFinding', 'FinalOutcome', 'Finding', 'Outcome', 'Beat', 'Location', 'Add1', 'Add2', 'City', 'IncidentDate', 'StartDate', 'EndDate', 'Investigator') \n",
      "\n",
      "('CRID', 'Gender', 'Race') \n",
      "\n",
      "('OfficerID', 'OfficerFirst', 'OfficerLast', 'Gender', 'Race', 'ApptDate', 'Unit', 'Rank', 'Star') \n",
      "\n"
     ]
    }
   ],
   "source": [
    "print allegations.dtype.names,'\\n'\n",
    "print citizens.dtype.names,'\\n'\n",
    "print officers.dtype.names,'\\n'"
   ]
  },
  {
   "cell_type": "markdown",
   "metadata": {},
   "source": [
    "For this analysis, we will be removing several columns for the following reasons:\n",
    "\n",
    "1. To anonymize our data, names of officers and investiagtors have been removed.\n",
    "2. Many of the columns in Allegations are redundant as they code for other columns. We will preserve only the human readable columns.\n",
    "3. The Beat column has no data, so it will be removed.\n",
    "4. We will only focus on final outcomes, so the \"recommended\" columns have been removed.\n",
    "5. We will be limiting our geographic analysis to Location, so the address information has been removed."
   ]
  },
  {
   "cell_type": "code",
   "execution_count": 292,
   "metadata": {
    "collapsed": false
   },
   "outputs": [],
   "source": [
    "#TODO: there is a typo in the \"OfficerFirst\" column in allegations.\n",
    "#Should pass this on to Kalven at Invisible Institute along with questions about data.\n",
    "allegations = utils.remove_cols(allegations,['OfficeFirst','OfficerLast','Investigator','AllegationCode','RecommendedFinding','RecommendedOutcome','FinalFinding','FinalOutcome','Beat','Add1','Add2','City'])\n",
    "officers = utils.remove_cols(officers,['OfficerFirst','OfficerLast'])"
   ]
  },
  {
   "cell_type": "markdown",
   "metadata": {},
   "source": [
    "For ease of use, let's join our tables."
   ]
  },
  {
   "cell_type": "code",
   "execution_count": 293,
   "metadata": {
    "collapsed": false
   },
   "outputs": [],
   "source": [
    "master = utils.join(allegations,citizens,'left',['CRID'],['CRID'])\n",
    "\n",
    "#Rename Race and Gender, since citizens and officers have these columns\n",
    "temp_col_names = list(master.dtype.names)\n",
    "gender_index = temp_col_names.index(\"Gender\")\n",
    "race_index = temp_col_names.index(\"Race\")\n",
    "temp_col_names[gender_index] = \"CitizenGender\"\n",
    "temp_col_names[race_index] = \"CitizenRace\"\n",
    "master.dtype.names = tuple(temp_col_names)\n",
    "\n",
    "master = utils.join(master,officers,'left',['OfficerID'],['OfficerID'])\n",
    "temp_col_names = list(master.dtype.names)\n",
    "gender_index = temp_col_names.index(\"Gender\")\n",
    "race_index = temp_col_names.index(\"Race\")\n",
    "temp_col_names[gender_index] = \"OfficerGender\"\n",
    "temp_col_names[race_index] = \"OfficerRace\"\n",
    "master.dtype.names = tuple(temp_col_names)"
   ]
  },
  {
   "cell_type": "markdown",
   "metadata": {},
   "source": [
    "Now, let's encode these numerically"
   ]
  },
  {
   "cell_type": "code",
   "execution_count": 322,
   "metadata": {
    "collapsed": false
   },
   "outputs": [],
   "source": [
    "master_data, master_classes = modify.label_encode(master)"
   ]
  },
  {
   "cell_type": "markdown",
   "metadata": {},
   "source": [
    "For convenience, we'll build every possible categorical directive"
   ]
  },
  {
   "cell_type": "code",
   "execution_count": 325,
   "metadata": {
    "collapsed": false,
    "scrolled": true
   },
   "outputs": [],
   "source": [
    "#Directives\n",
    "\n",
    "def cat_directives(array,classes):\n",
    "    cat_directives = {}\n",
    "    for column in classes:\n",
    "        cat_directives[column] = {v:[{'func': modify.row_val_eq, 'col_name': column, 'vals': i}] for i,v in enumerate(classes[column])}\n",
    "    return cat_directives\n",
    "\n",
    "where = cat_directives(master_data,master_classes)"
   ]
  },
  {
   "cell_type": "markdown",
   "metadata": {},
   "source": [
    "Now, we can build intuitive masks as combinations of our human-readable directives"
   ]
  },
  {
   "cell_type": "code",
   "execution_count": 326,
   "metadata": {
    "collapsed": false
   },
   "outputs": [],
   "source": [
    "#Masks\n",
    "\n",
    "#Gender\n",
    "female_officers = modify.where_all_are_true(master_data,where['OfficerGender']['F'])\n",
    "male_officers = modify.where_all_are_true(master_data,where['OfficerGender']['M'])\n",
    "\n",
    "female_citizens = modify.where_all_are_true(master_data,where['CitizenGender']['F'])\n",
    "male_citizens = modify.where_all_are_true(master_data,where['CitizenGender']['M'])\n",
    "\n",
    "#Race\n",
    "white_officers = modify.where_all_are_true(master_data,where['OfficerRace']['White'])\n",
    "black_officers = modify.where_all_are_true(master_data,where['OfficerRace']['Black'])\n",
    "hispanic_officers = modify.where_all_are_true(master_data,where['OfficerRace']['Hispanic'])\n",
    "\n",
    "white_citizens = modify.where_all_are_true(master_data,where['CitizenRace']['White'])\n",
    "black_citizens = modify.where_all_are_true(master_data,where['CitizenRace']['Black'])\n",
    "hispanic_citizens = modify.where_all_are_true(master_data,where['CitizenRace']['Hispanic'])\n",
    "\n",
    "#Cross-sections\n",
    "white_M_officers_black_F_citizens = modify.where_all_are_true(master_data,where['OfficerRace']['White']+\n",
    "                                                                     where['OfficerGender']['M']+\n",
    "                                                                     where['CitizenRace']['Black']+\n",
    "                                                                     where['CitizenGender']['F'])\n"
   ]
  },
  {
   "cell_type": "markdown",
   "metadata": {},
   "source": [
    "We understand what data we have, and we have some tools to easily slice and dice. Let's dive in and learn something."
   ]
  },
  {
   "cell_type": "code",
   "execution_count": 336,
   "metadata": {
    "collapsed": false,
    "scrolled": true
   },
   "outputs": [
    {
     "name": "stdout",
     "output_type": "stream",
     "text": [
      "0.0836069539972\n"
     ]
    },
    {
     "data": {
      "image/png": "[encoded data removed]",
      "text/plain": [
       "<matplotlib.figure.Figure at 0x113171150>"
      ]
     },
     "metadata": {},
     "output_type": "display_data"
    }
   ],
   "source": [
    "#This seems a little clunky to me\n",
    "#Would be nice if plot_simple_histogram could handle categorical labels for me\n",
    "display.plot_simple_histogram(master_data['OfficerRace'],verbose=False)\n",
    "display.plt.xticks(range(len(master_classes['OfficerRace'])), master_classes['OfficerRace'])\n",
    "\n",
    "#Ex: What percentage of allegations have a black female citizen and a white male officer?\n",
    "print np.sum(white_M_officers_black_F_citizens.astype(np.float))/np.size(white_M_officers_black_F_citizens.astype(np.float))"
   ]
  },
  {
   "cell_type": "code",
   "execution_count": 287,
   "metadata": {
    "collapsed": false
   },
   "outputs": [
    {
     "name": "stdout",
     "output_type": "stream",
     "text": [
      "1057642\n",
      "2013-05-15T19:00:00.000000000-0500\n",
      "2012-10-08T19:00:00.000000000-0500\n",
      "[219  46 361 ..., 155  25 461]\n"
     ]
    }
   ],
   "source": [
    "temp = np.subtract(master[\"EndDate\"],master[\"StartDate\"])\n",
    "master\n",
    "\n",
    "\n",
    "print master[\"CRID\"][0]\n",
    "print master[\"EndDate\"][0]\n",
    "print master[\"StartDate\"][0]\n",
    "print temp/10**9/60/60/24"
   ]
  },
  {
   "cell_type": "code",
   "execution_count": null,
   "metadata": {
    "collapsed": true
   },
   "outputs": [],
   "source": []
  }
 ],
 "metadata": {
  "kernelspec": {
   "display_name": "Python 2",
   "language": "python",
   "name": "python2"
  },
  "language_info": {
   "codemirror_mode": {
    "name": "ipython",
    "version": 2
   },
   "file_extension": ".py",
   "mimetype": "text/x-python",
   "name": "python",
   "nbconvert_exporter": "python",
   "pygments_lexer": "ipython2",
   "version": "2.7.10"
  }
 },
 "nbformat": 4,
 "nbformat_minor": 0
}
