{
 "cells": [
  {
   "cell_type": "code",
   "execution_count": 28,
   "metadata": {
    "collapsed": false
   },
   "outputs": [],
   "source": [
    "%matplotlib inline\n",
    "import diogenes.read as read\n",
    "import diogenes.display as display\n",
    "import diogenes.modify as modify\n",
    "import diogenes.utils as utils\n",
    "import diogenes.grid_search as grid_search\n",
    "import numpy as np"
   ]
  },
  {
   "cell_type": "markdown",
   "metadata": {},
   "source": [
    "### Methods\n",
    "\n",
    "1. Data obtained from the [Citizens Police Data Project](cpdb.co).\n",
    "2. This data includes only the FOIA dataset from 2011 to present (i.e. the Bond and Moore datasets have been removed). \n",
    "3. This was accomplished by entering FOIA in the search bar.\n",
    "4. The resulting table was saved locally as a .xslx.\n",
    "5. The Allegations, Complaining Witnesses, and Officer Profile tabs were then saved locally as allegations.csv, citizens.csv, and officers.csv respectively.\n"
   ]
  },
  {
   "cell_type": "markdown",
   "metadata": {},
   "source": [
    "### Disclaimer\n",
    "\n",
    "The following disclaimer is included with the data by the [Invisible Institute](http://invisible.institute).\n",
    "\n",
    "\n",
    "This dataset is compiled from three lists of allegations against Chicago Police Department officers,\n",
    "spanning approximately 2002 - 2008 and 2010 - 2014, produced by the City of Chicago in response\n",
    "to litigation and to FOIA requests.\n",
    "\n",
    "The City of Chicago's production of this information is accompanied by a disclaimer that\n",
    "not all information contained in the City's database may be correct.\n",
    "\n",
    "No independent verification of the City's records has taken place and this dataset does not\n",
    "purport to be an accurate reflection of either the City's database or its veracity."
   ]
  },
  {
   "cell_type": "code",
   "execution_count": 29,
   "metadata": {
    "collapsed": false
   },
   "outputs": [],
   "source": [
    "#Record arrays\n",
    "allegations = read.open_csv('allegations.csv',parse_datetimes=['IncidentDate','StartDate','EndDate'])\n",
    "citizens = read.open_csv('citizens.csv')\n",
    "officers = read.open_csv('officers.csv')"
   ]
  },
  {
   "cell_type": "markdown",
   "metadata": {},
   "source": [
    "### What data do we have?\n",
    "\n",
    "We can see the column names for the three tables below.\n",
    "\n",
    "1. The Allegations table includes data on each allegation, including an ID for the complaint witness, the officer, and the outcome of the allegation. \n",
    "2. The Citizens table includes additional information for each complaint witness.\n",
    "3. The Officers table includes additional information for each officer."
   ]
  },
  {
   "cell_type": "code",
   "execution_count": 30,
   "metadata": {
    "collapsed": false
   },
   "outputs": [
    {
     "name": "stdout",
     "output_type": "stream",
     "text": [
      "          Column Name   Count          Mean Standard Dev Minimum     Maximum\n",
      " 0               CRID 28575.0 1072720.56308 916800.77455  1074.0 107000321.0\n",
      " 1          OfficerID 28575.0           nan          nan     1.0      9172.0\n",
      " 2        OfficeFirst     nan           nan          nan     nan         nan\n",
      " 3        OfficerLast     nan           nan          nan     nan         nan\n",
      " 4     AllegationCode     nan           nan          nan     nan         nan\n",
      " 5           Category     nan           nan          nan     nan         nan\n",
      " 6         Allegation     nan           nan          nan     nan         nan\n",
      " 7 RecommendedFinding     nan           nan          nan     nan         nan\n",
      " 8 RecommendedOutcome 28575.0           nan          nan     0.0       800.0\n",
      " 9       FinalFinding     nan           nan          nan     nan         nan\n",
      "10       FinalOutcome 28575.0           nan          nan     0.0       999.0\n",
      "11            Finding     nan           nan          nan     nan         nan\n",
      "12            Outcome     nan           nan          nan     nan         nan\n",
      "13               Beat 28575.0           nan          nan     nan         nan\n",
      "14           Location     nan           nan          nan     nan         nan\n",
      "15               Add1 28575.0           nan          nan     nan         nan\n",
      "16               Add2     nan           nan          nan     nan         nan\n",
      "17               City     nan           nan          nan     nan         nan\n",
      "18       IncidentDate     nan           nan          nan     nan         nan\n",
      "19          StartDate     nan           nan          nan     nan         nan\n",
      "20            EndDate     nan           nan          nan     nan         nan\n",
      "21       Investigator     nan           nan          nan     nan         nan\n",
      "None\n",
      "  Column Name   Count          Mean  Standard Dev   Minimum     Maximum\n",
      "0        CRID 17016.0 1083452.33662 1429359.24633 1043909.0 107000321.0\n",
      "1      Gender     nan           nan           nan       nan         nan\n",
      "2        Race     nan           nan           nan       nan         nan\n",
      "None\n",
      "   Column Name  Count          Mean  Standard Dev Minimum Maximum\n",
      "0    OfficerID 7743.0 4319.36820354 2511.64217192     1.0  9172.0\n",
      "1 OfficerFirst    nan           nan           nan     nan     nan\n",
      "2  OfficerLast    nan           nan           nan     nan     nan\n",
      "3       Gender    nan           nan           nan     nan     nan\n",
      "4         Race    nan           nan           nan     nan     nan\n",
      "5     ApptDate 7743.0           nan           nan 20323.0 42058.0\n",
      "6         Unit 7743.0           nan           nan     1.0   712.0\n",
      "7         Rank    nan           nan           nan     nan     nan\n",
      "8         Star 7743.0           nan           nan     0.0 21797.0\n",
      "None\n"
     ]
    }
   ],
   "source": [
    "#I shouldn't have to nest function calls just to get a summary of my data. This needs to be a single call.\n",
    "#Most of the data isn't numeric, so we should find a way to be more helpful than this.\n",
    "#Also, what is the \"None\" printing at the end of this?\n",
    "print display.pprint_sa(display.describe_cols(allegations))\n",
    "print display.pprint_sa(display.describe_cols(citizens))\n",
    "print display.pprint_sa(display.describe_cols(officers))"
   ]
  },
  {
   "cell_type": "markdown",
   "metadata": {},
   "source": [
    "For this analysis, we will be removing several columns for the following reasons:\n",
    "\n",
    "1. To anonymize our data, names of officers and investiagtors have been removed.\n",
    "2. Many of the columns in Allegations are redundant as they code for other columns. We will preserve only the human readable columns.\n",
    "3. The Beat column has no data, so it will be removed.\n",
    "4. We will only focus on final outcomes, so the \"recommended\" columns have been removed from Allegations.\n",
    "5. We will be limiting our geographic analysis to Location, so the address information has been removed.\n",
    "\n",
    "We will also translate ApptDate, which specifies the number of days between the hire date and 1900-1-1, to the number of years working."
   ]
  },
  {
   "cell_type": "code",
   "execution_count": 31,
   "metadata": {
    "collapsed": false
   },
   "outputs": [],
   "source": [
    "import datetime\n",
    "\n",
    "#TODO: there is a typo in the \"OfficerFirst\" column in allegations.\n",
    "#Should pass this on to Kalven at Invisible Institute along with questions about data.\n",
    "allegations = utils.remove_cols(allegations,['OfficeFirst','OfficerLast','Investigator','AllegationCode','RecommendedFinding','RecommendedOutcome','FinalFinding','FinalOutcome','Beat','Add1','Add2','City'])  \n",
    "officers = utils.remove_cols(officers,['OfficerFirst','OfficerLast','Star'])\n",
    "\n",
    "#Convert appointment date days since 1900-1-1 to years prior to today\n",
    "def tenure(vector):\n",
    "    today = datetime.datetime.strftime(datetime.datetime.now(),'%Y-%m-%d')\n",
    "    started = np.add(np.datetime64('1900-01-01'),map(lambda x: np.timedelta64(int(x), 'D'),vector))\n",
    "    tenure = np.subtract(np.datetime64(today),started)\n",
    "    return np.divide(tenure,np.timedelta64(1,'D')) / 365\n",
    "\n",
    "#Impute median date for missing values\n",
    "officers['ApptDate'] = modify.replace_missing_vals(officers['ApptDate'], strategy='median')\n",
    "tenure_days = modify.combine_cols(officers,tenure,['ApptDate'])\n",
    "officers = utils.append_cols(officers,[tenure_days],['Tenure'])\n"
   ]
  },
  {
   "cell_type": "markdown",
   "metadata": {},
   "source": [
    "For ease of use, let's join our tables."
   ]
  },
  {
   "cell_type": "code",
   "execution_count": 32,
   "metadata": {
    "collapsed": false
   },
   "outputs": [],
   "source": [
    "master = utils.join(allegations,citizens,'left',['CRID'],['CRID'])\n",
    "\n",
    "#Rename Race and Gender, since citizens and officers have these columns\n",
    "temp_col_names = list(master.dtype.names)\n",
    "gender_index = temp_col_names.index(\"Gender\")\n",
    "race_index = temp_col_names.index(\"Race\")\n",
    "temp_col_names[gender_index] = \"CitizenGender\"\n",
    "temp_col_names[race_index] = \"CitizenRace\"\n",
    "master.dtype.names = tuple(temp_col_names)\n",
    "\n",
    "master = utils.join(master,officers,'left',['OfficerID'],['OfficerID'])\n",
    "\n",
    "temp_col_names = list(master.dtype.names)\n",
    "gender_index = temp_col_names.index(\"Gender\")\n",
    "race_index = temp_col_names.index(\"Race\")\n",
    "temp_col_names[gender_index] = \"OfficerGender\"\n",
    "temp_col_names[race_index] = \"OfficerRace\"\n",
    "master.dtype.names = tuple(temp_col_names)"
   ]
  },
  {
   "cell_type": "markdown",
   "metadata": {},
   "source": [
    "There are some allegations where no officer ID was provided. For this analysis, we will discard those allegations."
   ]
  },
  {
   "cell_type": "code",
   "execution_count": 33,
   "metadata": {
    "collapsed": false
   },
   "outputs": [],
   "source": [
    "#This is a pretty awkward way to remove nan, is there a better way I missed?\n",
    "master = modify.choose_rows_where(master,[{'func': modify.row_val_between, 'col_name': 'OfficerID', 'vals': [-np.inf,np.inf]}])"
   ]
  },
  {
   "cell_type": "markdown",
   "metadata": {},
   "source": [
    "Now, let's encode our data numerically"
   ]
  },
  {
   "cell_type": "code",
   "execution_count": 34,
   "metadata": {
    "collapsed": false
   },
   "outputs": [],
   "source": [
    "#Unit is interpreted as numeric, but we really want to analyze it categorically\n",
    "#There should be an easier way to treat a numeric column as categorical data\n",
    "master = utils.append_cols(master,master['Unit'].astype('|S10'),['UnitCat'])\n",
    "master = utils.remove_cols(master,['Unit'])\n",
    "master_data, master_classes = modify.label_encode(master)"
   ]
  },
  {
   "cell_type": "markdown",
   "metadata": {},
   "source": [
    "For convenience, we'll build every possible categorical directive"
   ]
  },
  {
   "cell_type": "code",
   "execution_count": 35,
   "metadata": {
    "collapsed": false,
    "scrolled": true
   },
   "outputs": [],
   "source": [
    "#Directives\n",
    "\n",
    "def cat_directives(array,classes):\n",
    "    cat_directives = {}\n",
    "    for column in classes:\n",
    "        cat_directives[column] = {v:[{'func': modify.row_val_eq, 'col_name': column, 'vals': i}] for i,v in enumerate(classes[column])}\n",
    "    return cat_directives\n",
    "\n",
    "where = cat_directives(master_data,master_classes)"
   ]
  },
  {
   "cell_type": "markdown",
   "metadata": {},
   "source": [
    "Now, we can build intuitive masks as combinations of our human-readable directives"
   ]
  },
  {
   "cell_type": "code",
   "execution_count": 36,
   "metadata": {
    "collapsed": false
   },
   "outputs": [],
   "source": [
    "#Masks\n",
    "\n",
    "#Gender\n",
    "female_officers = modify.where_all_are_true(master_data,where['OfficerGender']['F'])\n",
    "male_officers = modify.where_all_are_true(master_data,where['OfficerGender']['M'])\n",
    "\n",
    "female_citizens = modify.where_all_are_true(master_data,where['CitizenGender']['F'])\n",
    "male_citizens = modify.where_all_are_true(master_data,where['CitizenGender']['M'])\n",
    "\n",
    "#Race\n",
    "white_officers = modify.where_all_are_true(master_data,where['OfficerRace']['White'])\n",
    "black_officers = modify.where_all_are_true(master_data,where['OfficerRace']['Black'])\n",
    "hispanic_officers = modify.where_all_are_true(master_data,where['OfficerRace']['Hispanic'])\n",
    "\n",
    "white_citizens = modify.where_all_are_true(master_data,where['CitizenRace']['White'])\n",
    "black_citizens = modify.where_all_are_true(master_data,where['CitizenRace']['Black'])\n",
    "hispanic_citizens = modify.where_all_are_true(master_data,where['CitizenRace']['Hispanic'])\n",
    "\n",
    "#Cross-sections\n",
    "white_M_officers_black_F_citizens = modify.where_all_are_true(master_data,where['OfficerRace']['White']+\n",
    "                                                                          where['OfficerGender']['M']+\n",
    "                                                                          where['CitizenRace']['Black']+\n",
    "                                                                          where['CitizenGender']['F'])\n"
   ]
  },
  {
   "cell_type": "markdown",
   "metadata": {},
   "source": [
    "Let's generate a potentially interesting new feature from our existing data, and pull out all non-numeric data"
   ]
  },
  {
   "cell_type": "code",
   "execution_count": 37,
   "metadata": {
    "collapsed": false
   },
   "outputs": [],
   "source": [
    "duration = modify.combine_cols(master_data,np.subtract,['EndDate','StartDate'])\n",
    "durationDays = duration / np.timedelta64(1, 'D')\n",
    "duration_data = utils.append_cols(master_data,[durationDays],['InvestigationDuration'])\n",
    "           \n",
    "numeric_data = utils.remove_cols(master_data,['StartDate','EndDate','IncidentDate'])"
   ]
  },
  {
   "cell_type": "markdown",
   "metadata": {},
   "source": [
    "We understand what data we have, and we have some tools to easily slice and dice. Let's dive in and learn something."
   ]
  },
  {
   "cell_type": "code",
   "execution_count": 38,
   "metadata": {
    "collapsed": false,
    "scrolled": true
   },
   "outputs": [
    {
     "name": "stdout",
     "output_type": "stream",
     "text": [
      "0.116281305581\n",
      "[(6142.0, 32), (816.0, 28), (7006.0, 26), (4253.0, 25), (7383.0, 24), (2657.0, 22), (1095.0, 21), (4304.0, 21), (8308.0, 21), (2400.0, 20), (3785.0, 20), (715.0, 19), (1979.0, 19), (3667.0, 19), (5143.0, 19), (5194.0, 19), (7555.0, 19), (1718.0, 18), (6390.0, 18), (930.0, 17), (5558.0, 17), (260.0, 16), (344.0, 16), (981.0, 16), (1178.0, 16), (1982.0, 16), (2329.0, 16), (4088.0, 16), (4438.0, 16), (1141.0, 15), (2123.0, 15), (2492.0, 15), (2928.0, 15), (3078.0, 15), (3490.0, 15), (6555.0, 15), (8046.0, 15), (290.0, 14), (496.0, 14), (1020.0, 14), (1045.0, 14), (1111.0, 14), (1125.0, 14), (1209.0, 14), (2215.0, 14), (2887.0, 14), (3323.0, 14), (4592.0, 14), (4796.0, 14), (5102.0, 14), (5513.0, 14), (6554.0, 14), (1019.0, 13), (1037.0, 13), (1316.0, 13), (1668.0, 13), (1808.0, 13), (2334.0, 13), (2354.0, 13), (3958.0, 13), (3962.0, 13), (4176.0, 13), (4812.0, 13), (4969.0, 13), (5843.0, 13), (6388.0, 13), (6793.0, 13), (7554.0, 13), (7594.0, 13), (87.0, 12), (115.0, 12), (132.0, 12), (186.0, 12), (679.0, 12), (1083.0, 12), (1487.0, 12), (1737.0, 12), (1859.0, 12), (1974.0, 12), (2260.0, 12), (2629.0, 12), (2893.0, 12), (2977.0, 12), (3906.0, 12), (4339.0, 12), (4526.0, 12), (5124.0, 12), (5237.0, 12), (5524.0, 12), (5719.0, 12), (5970.0, 12), (6327.0, 12), (6614.0, 12), (6722.0, 12), (6830.0, 12), (7534.0, 12), (7597.0, 12), (7801.0, 12), (7810.0, 12), (8055.0, 12)]\n",
      "36493.0\n"
     ]
    },
    {
     "data": {
      "image/png": "[encoded data removed]",
      "text/plain": [
       "<matplotlib.figure.Figure at 0x1151ef850>"
      ]
     },
     "metadata": {},
     "output_type": "display_data"
    },
    {
     "data": {
      "image/png": "[encoded data removed]",
      "text/plain": [
       "<matplotlib.figure.Figure at 0x1160fc350>"
      ]
     },
     "metadata": {},
     "output_type": "display_data"
    },
    {
     "data": {
      "image/png": "[encoded data removed]",
      "text/plain": [
       "<matplotlib.figure.Figure at 0x11616c090>"
      ]
     },
     "metadata": {},
     "output_type": "display_data"
    }
   ],
   "source": [
    "# Basics\n",
    "\n",
    "#Ex 1: What percentage of allegations have a black female citizen and a white male officer?\n",
    "print np.sum(white_M_officers_black_F_citizens.astype(np.float))/np.size(white_M_officers_black_F_citizens.astype(np.float))\n",
    "\n",
    "#Ex 2: What is the breakdown of officers with complaints by race?\n",
    "#This seems a little clunky to me\n",
    "#Would be nice if plot_simple_histogram could handle categorical labels for me\n",
    "display.plot_simple_histogram(master_data['OfficerRace'],verbose=False)\n",
    "display.plt.xticks(range(len(master_classes['OfficerRace'])), master_classes['OfficerRace'])\n",
    "\n",
    "#Ex 3: What can we learn from the 100 officers who receive the most complaints?\n",
    "#FYI: Wikipedia says 12,244 officers total, so this is roughly the top 1% of all Chicago officers.\n",
    "#Obviously, all officers do not have the same quantity and quality of interactions with citizens.\n",
    "#Need to account for this fact for any real analysis.\n",
    "counts = display.Counter(numeric_data['OfficerID'])\n",
    "        \n",
    "#Top 100 Officers\n",
    "top_100 = counts.most_common(100)\n",
    "top_100_officers = map(lambda x: x[0],top_100)\n",
    "\n",
    "#We should add this to modify.py for categorical data\n",
    "def row_val_in(M,col_name,boundary):\n",
    "    return [x in boundary for x in M[col_name]]\n",
    "\n",
    "top_100_profile = modify.choose_rows_where(officers,[{'func': row_val_in, 'col_name': 'OfficerID', 'vals': top_100_officers}])\n",
    "\n",
    "#Can't check this against CPDB, their allegation counts are for the whole time period\n",
    "#Not just 2011 - present.\n",
    "print top_100\n",
    "\n",
    "display.plot_simple_histogram(master_data['Tenure'],verbose=False)\n",
    "display.plot_simple_histogram(top_100_profile['Tenure'],verbose=False)\n",
    "\n"
   ]
  },
  {
   "cell_type": "code",
   "execution_count": 39,
   "metadata": {
    "collapsed": false,
    "scrolled": true
   },
   "outputs": [
    {
     "name": "stdout",
     "output_type": "stream",
     "text": [
      "[('No Action Taken', 0.7631110897466712), ('Unknown', 0.19896168821804547), ('Reprimand', 0.010623467769071769), ('Violation Noted', 0.006874008556458203), ('1 Day Suspension', 0.00475892900062491), ('Resigned', 0.0038936691823294716), ('5 Day Suspension', 0.002355429505359804), ('2 Day Suspension', 0.002018939576022689), ('Penalty Not Served', 0.0016343796567802721), ('3 Day Suspension', 0.001201749747632553), ('10 Day Suspension', 0.0007691198384848339), ('15 Day Suspension', 0.0007210498485795318), ('', 0.0004326299091477191), ('20 Day Suspension', 0.0004326299091477191), ('30 Day Suspension', 0.00038455991924241697), ('25 Day Suspension', 0.00033648992933711484), ('Administrative Termination', 0.00033648992933711484), ('4 Day Suspension', 0.0002884199394318127), ('Separation', 0.00014420996971590636), ('45 Day Suspension', 0.00014420996971590636), ('Suspended over 30 Days', 0.00014420996971590636), ('Reinstated by Police Board', 9.613997981060424e-05), ('21 Day Suspension', 9.613997981060424e-05), ('7 Day Suspension', 4.806998990530212e-05), ('23 Day Suspension', 4.806998990530212e-05), ('12 Day Suspension', 4.806998990530212e-05), ('8 Day Suspension', 4.806998990530212e-05), ('6 Day Suspension', 4.806998990530212e-05)]\n"
     ]
    }
   ],
   "source": [
    "#Hastily written, possibly not useful. Just curious.\n",
    "def sortedFrequencies(array,classes,col_name):\n",
    "    if col_name not in classes:\n",
    "        raise ValueError('col_name must be categorical')\n",
    "    \n",
    "    counts = display.Counter(array[col_name])\n",
    "    total = float(sum(counts.values()))\n",
    "    \n",
    "    for key in counts:\n",
    "         counts[key] /= total\n",
    "    \n",
    "    count_dict = {}    \n",
    "    for value in counts:\n",
    "        count_dict[classes[col_name][value]] = counts[value]\n",
    "        \n",
    "    return sorted(count_dict.items(), key=lambda x: x[1],reverse=True)\n",
    "\n",
    "print sortedFrequencies(numeric_data,master_classes,'Outcome')\n",
    "    "
   ]
  },
  {
   "cell_type": "code",
   "execution_count": null,
   "metadata": {
    "collapsed": false
   },
   "outputs": [],
   "source": []
  },
  {
   "cell_type": "code",
   "execution_count": null,
   "metadata": {
    "collapsed": true
   },
   "outputs": [],
   "source": []
  }
 ],
 "metadata": {
  "kernelspec": {
   "display_name": "Python 2",
   "language": "python",
   "name": "python2"
  },
  "language_info": {
   "codemirror_mode": {
    "name": "ipython",
    "version": 2
   },
   "file_extension": ".py",
   "mimetype": "text/x-python",
   "name": "python",
   "nbconvert_exporter": "python",
   "pygments_lexer": "ipython2",
   "version": "2.7.10"
  }
 },
 "nbformat": 4,
 "nbformat_minor": 0
}
