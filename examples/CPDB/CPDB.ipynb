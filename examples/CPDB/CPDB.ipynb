{
 "cells": [
  {
   "cell_type": "code",
   "execution_count": 471,
   "metadata": {
    "collapsed": false
   },
   "outputs": [],
   "source": [
    "%matplotlib inline\n",
    "import diogenes.read as read\n",
    "import diogenes.display as display\n",
    "import diogenes.modify as modify\n",
    "import diogenes.utils as utils\n",
    "import diogenes.grid_search as grid_search\n",
    "import numpy as np"
   ]
  },
  {
   "cell_type": "markdown",
   "metadata": {},
   "source": [
    "### Methods\n",
    "\n",
    "1. Data obtained from the [Citizens Police Data Project](cpdb.co).\n",
    "2. This data includes only the FOIA dataset from 2011 to present (i.e. the Bond and Moore datasets have been removed). \n",
    "3. This was accomplished by entering FOIA in the search bar.\n",
    "4. The resulting table was saved locally as a .xslx.\n",
    "5. The Allegations, Complaining Witnesses, and Officer Profile tabs were then saved locally as allegations.csv, citizens.csv, and officers.csv respectively.\n"
   ]
  },
  {
   "cell_type": "markdown",
   "metadata": {},
   "source": [
    "### Disclaimer\n",
    "\n",
    "The following disclaimer is included with the data by the [Invisible Institute](http://invisible.institute).\n",
    "\n",
    "\n",
    "This dataset is compiled from three lists of allegations against Chicago Police Department officers,\n",
    "spanning approximately 2002 - 2008 and 2010 - 2014, produced by the City of Chicago in response\n",
    "to litigation and to FOIA requests.\n",
    "\n",
    "The City of Chicago's production of this information is accompanied by a disclaimer that\n",
    "not all information contained in the City's database may be correct.\n",
    "\n",
    "No independent verification of the City's records has taken place and this dataset does not\n",
    "purport to be an accurate reflection of either the City's database or its veracity."
   ]
  },
  {
   "cell_type": "code",
   "execution_count": 376,
   "metadata": {
    "collapsed": false
   },
   "outputs": [],
   "source": [
    "#Record arrays\n",
    "allegations = read.open_csv('allegations.csv',parse_datetimes=['IncidentDate','StartDate','EndDate'])\n",
    "citizens = read.open_csv('citizens.csv')\n",
    "officers = read.open_csv('officers.csv')"
   ]
  },
  {
   "cell_type": "markdown",
   "metadata": {},
   "source": [
    "### What data do we have?\n",
    "\n",
    "We can see the column names for the three tables below.\n",
    "\n",
    "1. The Allegations table includes data on each allegation, including an ID for the complaint witness, the officer, and the outcome of the allegation. \n",
    "2. The Citizens table includes additional information for each complaint witness.\n",
    "3. The Officers table includes additional information for each officer."
   ]
  },
  {
   "cell_type": "code",
   "execution_count": 377,
   "metadata": {
    "collapsed": false
   },
   "outputs": [
    {
     "name": "stdout",
     "output_type": "stream",
     "text": [
      "('CRID', 'OfficerID', 'OfficeFirst', 'OfficerLast', 'AllegationCode', 'Category', 'Allegation', 'RecommendedFinding', 'RecommendedOutcome', 'FinalFinding', 'FinalOutcome', 'Finding', 'Outcome', 'Beat', 'Location', 'Add1', 'Add2', 'City', 'IncidentDate', 'StartDate', 'EndDate', 'Investigator') \n",
      "\n",
      "('CRID', 'Gender', 'Race') \n",
      "\n",
      "('OfficerID', 'OfficerFirst', 'OfficerLast', 'Gender', 'Race', 'ApptDate', 'Unit', 'Rank', 'Star') \n",
      "\n"
     ]
    }
   ],
   "source": [
    "print allegations.dtype.names,'\\n'\n",
    "print citizens.dtype.names,'\\n'\n",
    "print officers.dtype.names,'\\n'"
   ]
  },
  {
   "cell_type": "markdown",
   "metadata": {},
   "source": [
    "For this analysis, we will be removing several columns for the following reasons:\n",
    "\n",
    "1. To anonymize our data, names of officers and investiagtors have been removed.\n",
    "2. Many of the columns in Allegations are redundant as they code for other columns. We will preserve only the human readable columns.\n",
    "3. The Beat column has no data, so it will be removed.\n",
    "4. We will only focus on final outcomes, so the \"recommended\" columns have been removed.\n",
    "5. We will be limiting our geographic analysis to Location, so the address information has been removed."
   ]
  },
  {
   "cell_type": "code",
   "execution_count": 378,
   "metadata": {
    "collapsed": false
   },
   "outputs": [],
   "source": [
    "#TODO: there is a typo in the \"OfficerFirst\" column in allegations.\n",
    "#Should pass this on to Kalven at Invisible Institute along with questions about data.\n",
    "allegations = utils.remove_cols(allegations,['OfficeFirst','OfficerLast','Investigator','AllegationCode','RecommendedFinding','RecommendedOutcome','FinalFinding','FinalOutcome','Beat','Add1','Add2','City'])\n",
    "officers = utils.remove_cols(officers,['OfficerFirst','OfficerLast'])"
   ]
  },
  {
   "cell_type": "markdown",
   "metadata": {},
   "source": [
    "For ease of use, let's join our tables."
   ]
  },
  {
   "cell_type": "code",
   "execution_count": 379,
   "metadata": {
    "collapsed": false
   },
   "outputs": [],
   "source": [
    "master = utils.join(allegations,citizens,'left',['CRID'],['CRID'])\n",
    "\n",
    "#Rename Race and Gender, since citizens and officers have these columns\n",
    "temp_col_names = list(master.dtype.names)\n",
    "gender_index = temp_col_names.index(\"Gender\")\n",
    "race_index = temp_col_names.index(\"Race\")\n",
    "temp_col_names[gender_index] = \"CitizenGender\"\n",
    "temp_col_names[race_index] = \"CitizenRace\"\n",
    "master.dtype.names = tuple(temp_col_names)\n",
    "\n",
    "master = utils.join(master,officers,'left',['OfficerID'],['OfficerID'])\n",
    "temp_col_names = list(master.dtype.names)\n",
    "gender_index = temp_col_names.index(\"Gender\")\n",
    "race_index = temp_col_names.index(\"Race\")\n",
    "temp_col_names[gender_index] = \"OfficerGender\"\n",
    "temp_col_names[race_index] = \"OfficerRace\"\n",
    "master.dtype.names = tuple(temp_col_names)"
   ]
  },
  {
   "cell_type": "markdown",
   "metadata": {},
   "source": [
    "There are some allegations where no officer ID was provided. For this analysis, we will discard those allegations."
   ]
  },
  {
   "cell_type": "code",
   "execution_count": 426,
   "metadata": {
    "collapsed": false
   },
   "outputs": [],
   "source": [
    "#This is a pretty awkward way to remove nan, is there a better way I missed?\n",
    "master = modify.choose_rows_where(master,[{'func': modify.row_val_between, 'col_name': 'OfficerID', 'vals': [-np.inf,np.inf]}])"
   ]
  },
  {
   "cell_type": "markdown",
   "metadata": {},
   "source": [
    "Now, let's encode our data numerically"
   ]
  },
  {
   "cell_type": "code",
   "execution_count": 442,
   "metadata": {
    "collapsed": false
   },
   "outputs": [],
   "source": [
    "master_data, master_classes = modify.label_encode(master)"
   ]
  },
  {
   "cell_type": "markdown",
   "metadata": {},
   "source": [
    "For convenience, we'll build every possible categorical directive"
   ]
  },
  {
   "cell_type": "code",
   "execution_count": 443,
   "metadata": {
    "collapsed": false,
    "scrolled": true
   },
   "outputs": [],
   "source": [
    "#Directives\n",
    "\n",
    "def cat_directives(array,classes):\n",
    "    cat_directives = {}\n",
    "    for column in classes:\n",
    "        cat_directives[column] = {v:[{'func': modify.row_val_eq, 'col_name': column, 'vals': i}] for i,v in enumerate(classes[column])}\n",
    "    return cat_directives\n",
    "\n",
    "where = cat_directives(master_data,master_classes)"
   ]
  },
  {
   "cell_type": "markdown",
   "metadata": {},
   "source": [
    "Now, we can build intuitive masks as combinations of our human-readable directives"
   ]
  },
  {
   "cell_type": "code",
   "execution_count": 444,
   "metadata": {
    "collapsed": false
   },
   "outputs": [],
   "source": [
    "#Masks\n",
    "\n",
    "#Gender\n",
    "female_officers = modify.where_all_are_true(master_data,where['OfficerGender']['F'])\n",
    "male_officers = modify.where_all_are_true(master_data,where['OfficerGender']['M'])\n",
    "\n",
    "female_citizens = modify.where_all_are_true(master_data,where['CitizenGender']['F'])\n",
    "male_citizens = modify.where_all_are_true(master_data,where['CitizenGender']['M'])\n",
    "\n",
    "#Race\n",
    "white_officers = modify.where_all_are_true(master_data,where['OfficerRace']['White'])\n",
    "black_officers = modify.where_all_are_true(master_data,where['OfficerRace']['Black'])\n",
    "hispanic_officers = modify.where_all_are_true(master_data,where['OfficerRace']['Hispanic'])\n",
    "\n",
    "white_citizens = modify.where_all_are_true(master_data,where['CitizenRace']['White'])\n",
    "black_citizens = modify.where_all_are_true(master_data,where['CitizenRace']['Black'])\n",
    "hispanic_citizens = modify.where_all_are_true(master_data,where['CitizenRace']['Hispanic'])\n",
    "\n",
    "#Cross-sections\n",
    "white_M_officers_black_F_citizens = modify.where_all_are_true(master_data,where['OfficerRace']['White']+\n",
    "                                                                     where['OfficerGender']['M']+\n",
    "                                                                     where['CitizenRace']['Black']+\n",
    "                                                                     where['CitizenGender']['F'])\n"
   ]
  },
  {
   "cell_type": "markdown",
   "metadata": {},
   "source": [
    "Let's generate a potentially interesting new feature from our existing data"
   ]
  },
  {
   "cell_type": "code",
   "execution_count": 445,
   "metadata": {
    "collapsed": false
   },
   "outputs": [],
   "source": [
    "duration = modify.combine_cols(master_data,np.subtract,['EndDate','StartDate'])\n",
    "durationDays = duration / np.timedelta64(1, 'D')\n",
    "master_data = utils.append_cols(master_data,[durationDays],['InvestigationDuration'])"
   ]
  },
  {
   "cell_type": "markdown",
   "metadata": {},
   "source": [
    "We understand what data we have, and we have some tools to easily slice and dice. Let's dive in and learn something."
   ]
  },
  {
   "cell_type": "code",
   "execution_count": 1,
   "metadata": {
    "collapsed": false,
    "scrolled": false
   },
   "outputs": [
    {
     "ename": "NameError",
     "evalue": "name 'np' is not defined",
     "output_type": "error",
     "traceback": [
      "\u001b[0;31m---------------------------------------------------------------------------\u001b[0m",
      "\u001b[0;31mNameError\u001b[0m                                 Traceback (most recent call last)",
      "\u001b[0;32m<ipython-input-1-73e9576f84ea>\u001b[0m in \u001b[0;36m<module>\u001b[0;34m()\u001b[0m\n\u001b[1;32m      2\u001b[0m \u001b[0;34m\u001b[0m\u001b[0m\n\u001b[1;32m      3\u001b[0m \u001b[0;31m#Ex: What percentage of allegations have a black female citizen and a white male officer?\u001b[0m\u001b[0;34m\u001b[0m\u001b[0;34m\u001b[0m\u001b[0m\n\u001b[0;32m----> 4\u001b[0;31m \u001b[0;32mprint\u001b[0m \u001b[0mnp\u001b[0m\u001b[0;34m.\u001b[0m\u001b[0msum\u001b[0m\u001b[0;34m(\u001b[0m\u001b[0mwhite_M_officers_black_F_citizens\u001b[0m\u001b[0;34m.\u001b[0m\u001b[0mastype\u001b[0m\u001b[0;34m(\u001b[0m\u001b[0mnp\u001b[0m\u001b[0;34m.\u001b[0m\u001b[0mfloat\u001b[0m\u001b[0;34m)\u001b[0m\u001b[0;34m)\u001b[0m\u001b[0;34m/\u001b[0m\u001b[0mnp\u001b[0m\u001b[0;34m.\u001b[0m\u001b[0msize\u001b[0m\u001b[0;34m(\u001b[0m\u001b[0mwhite_M_officers_black_F_citizens\u001b[0m\u001b[0;34m.\u001b[0m\u001b[0mastype\u001b[0m\u001b[0;34m(\u001b[0m\u001b[0mnp\u001b[0m\u001b[0;34m.\u001b[0m\u001b[0mfloat\u001b[0m\u001b[0;34m)\u001b[0m\u001b[0;34m)\u001b[0m\u001b[0;34m\u001b[0m\u001b[0m\n\u001b[0m\u001b[1;32m      5\u001b[0m \u001b[0;34m\u001b[0m\u001b[0m\n\u001b[1;32m      6\u001b[0m \u001b[0;31m#Ex: What is the breakdown of officers with complaints by race?\u001b[0m\u001b[0;34m\u001b[0m\u001b[0;34m\u001b[0m\u001b[0m\n",
      "\u001b[0;31mNameError\u001b[0m: name 'np' is not defined"
     ]
    }
   ],
   "source": [
    "# Basics\n",
    "\n",
    "#Ex: What percentage of allegations have a black female citizen and a white male officer?\n",
    "print np.sum(white_M_officers_black_F_citizens.astype(np.float))/np.size(white_M_officers_black_F_citizens.astype(np.float))\n",
    "\n",
    "#Ex: What is the breakdown of officers with complaints by race?\n",
    "#This seems a little clunky to me\n",
    "#Would be nice if plot_simple_histogram could handle categorical labels for me\n",
    "display.plot_simple_histogram(master_data['OfficerRace'],verbose=False)\n",
    "display.plt.xticks(range(len(master_classes['OfficerRace'])), master_classes['OfficerRace'])\n"
   ]
  },
  {
   "cell_type": "code",
   "execution_count": 475,
   "metadata": {
    "collapsed": false,
    "scrolled": false
   },
   "outputs": [],
   "source": [
    "#Slightly less basic\n",
    "\n",
    "#Ex: What affects duration of investigation?\n",
    "all_duration = modify.choose_rows_where(master_data,[{'func': modify.row_val_between, 'col_name': 'InvestigationDuration', 'vals': [-np.inf,np.inf]}])\n",
    "\n",
    "#Ex: What affects duration of investigation?\n",
    "labels = all_duration['InvestigationDuration']\n",
    "labels = labels < np.median(labels)\n",
    "\n"
   ]
  },
  {
   "cell_type": "code",
   "execution_count": null,
   "metadata": {
    "collapsed": true
   },
   "outputs": [],
   "source": []
  }
 ],
 "metadata": {
  "kernelspec": {
   "display_name": "Python 2",
   "language": "python",
   "name": "python2"
  },
  "language_info": {
   "codemirror_mode": {
    "name": "ipython",
    "version": 2
   },
   "file_extension": ".py",
   "mimetype": "text/x-python",
   "name": "python",
   "nbconvert_exporter": "python",
   "pygments_lexer": "ipython2",
   "version": "2.7.10"
  }
 },
 "nbformat": 4,
 "nbformat_minor": 0
}
