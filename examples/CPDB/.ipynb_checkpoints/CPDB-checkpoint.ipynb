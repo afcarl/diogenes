{
 "cells": [
  {
   "cell_type": "code",
   "execution_count": 1,
   "metadata": {
    "collapsed": false
   },
   "outputs": [],
   "source": [
    "%matplotlib inline\n",
    "import diogenes.read as read\n",
    "import diogenes.display as display\n",
    "import diogenes.modify as modify\n",
    "import diogenes.utils as utils\n",
    "import diogenes.grid_search as grid_search\n",
    "import numpy as np"
   ]
  },
  {
   "cell_type": "markdown",
   "metadata": {},
   "source": [
    "### Methods\n",
    "\n",
    "1. Data obtained from the [Citizens Police Data Project](cpdb.co).\n",
    "2. This data includes only the FOIA dataset from 2011 to present (i.e. the Bond and Moore datasets have been removed). \n",
    "3. This was accomplished by entering FOIA in the search bar.\n",
    "4. The resulting table was saved to GitHub as a .xslx.\n",
    "5. The Allegations, Complaining Witnesses, and Officer Profile tabs were then saved as allegations.csv, citizens.csv, and officers.csv respectively.\n"
   ]
  },
  {
   "cell_type": "markdown",
   "metadata": {},
   "source": [
    "### Disclaimer\n",
    "\n",
    "The following disclaimer is included with the data by the [Invisible Institute](http://invisible.institute).\n",
    "\n",
    "\n",
    "This dataset is compiled from three lists of allegations against Chicago Police Department officers,\n",
    "spanning approximately 2002 - 2008 and 2010 - 2014, produced by the City of Chicago in response\n",
    "to litigation and to FOIA requests.\n",
    "\n",
    "The City of Chicago's production of this information is accompanied by a disclaimer that\n",
    "not all information contained in the City's database may be correct.\n",
    "\n",
    "No independent verification of the City's records has taken place and this dataset does not\n",
    "purport to be an accurate reflection of either the City's database or its veracity."
   ]
  },
  {
   "cell_type": "code",
   "execution_count": 120,
   "metadata": {
    "collapsed": false
   },
   "outputs": [],
   "source": [
    "#Record arrays\n",
    "\n",
    "allegations = read.open_csv_url('https://raw.githubusercontent.com/jamestwhedbee/DataProjects/master/CPDB/Allegations.csv',parse_datetimes=['IncidentDate','StartDate','EndDate'])\n",
    "citizens = read.open_csv_url('https://raw.githubusercontent.com/jamestwhedbee/DataProjects/master/CPDB/Citizens.csv')\n",
    "officers = read.open_csv_url('https://raw.githubusercontent.com/jamestwhedbee/DataProjects/master/CPDB/Officers.csv')"
   ]
  },
  {
   "cell_type": "markdown",
   "metadata": {},
   "source": [
    "### What data do we have?\n",
    "\n",
    "We can see the column names for the three tables below.\n",
    "\n",
    "1. The Allegations table includes data on each allegation, including an ID for the complaint witness, the officer, and the outcome of the allegation. \n",
    "2. The Citizens table includes additional information for each complaint witness.\n",
    "3. The Officers table includes additional information for each officer."
   ]
  },
  {
   "cell_type": "code",
   "execution_count": 121,
   "metadata": {
    "collapsed": false
   },
   "outputs": [
    {
     "name": "stdout",
     "output_type": "stream",
     "text": [
      "          Column Name   Count          Mean Standard Dev Minimum     Maximum\n",
      " 0               CRID 28575.0 1072720.56308 916800.77455  1074.0 107000321.0\n",
      " 1          OfficerID 28575.0           nan          nan     1.0      9172.0\n",
      " 2        OfficeFirst     nan           nan          nan     nan         nan\n",
      " 3        OfficerLast     nan           nan          nan     nan         nan\n",
      " 4     AllegationCode     nan           nan          nan     nan         nan\n",
      " 5           Category     nan           nan          nan     nan         nan\n",
      " 6         Allegation     nan           nan          nan     nan         nan\n",
      " 7 RecommendedFinding     nan           nan          nan     nan         nan\n",
      " 8 RecommendedOutcome 28575.0           nan          nan     0.0       800.0\n",
      " 9       FinalFinding     nan           nan          nan     nan         nan\n",
      "10       FinalOutcome 28575.0           nan          nan     0.0       999.0\n",
      "11            Finding     nan           nan          nan     nan         nan\n",
      "12            Outcome     nan           nan          nan     nan         nan\n",
      "13               Beat 28575.0           nan          nan     nan         nan\n",
      "14           Location     nan           nan          nan     nan         nan\n",
      "15               Add1 28575.0           nan          nan     nan         nan\n",
      "16               Add2     nan           nan          nan     nan         nan\n",
      "17               City     nan           nan          nan     nan         nan\n",
      "18       IncidentDate     nan           nan          nan     nan         nan\n",
      "19          StartDate     nan           nan          nan     nan         nan\n",
      "20            EndDate     nan           nan          nan     nan         nan\n",
      "21       Investigator     nan           nan          nan     nan         nan\n",
      "None\n",
      "  Column Name   Count          Mean  Standard Dev   Minimum     Maximum\n",
      "0        CRID 17016.0 1083452.33662 1429359.24633 1043909.0 107000321.0\n",
      "1      Gender     nan           nan           nan       nan         nan\n",
      "2        Race     nan           nan           nan       nan         nan\n",
      "None\n",
      "   Column Name  Count          Mean  Standard Dev Minimum Maximum\n",
      "0    OfficerID 7743.0 4319.36820354 2511.64217192     1.0  9172.0\n",
      "1 OfficerFirst    nan           nan           nan     nan     nan\n",
      "2  OfficerLast    nan           nan           nan     nan     nan\n",
      "3       Gender    nan           nan           nan     nan     nan\n",
      "4         Race    nan           nan           nan     nan     nan\n",
      "5     ApptDate 7743.0           nan           nan 20323.0 42058.0\n",
      "6         Unit 7743.0           nan           nan     1.0   712.0\n",
      "7         Rank    nan           nan           nan     nan     nan\n",
      "8         Star 7743.0           nan           nan     0.0 21797.0\n",
      "None\n"
     ]
    }
   ],
   "source": [
    "#I shouldn't have to nest function calls just to get a summary of my data. This needs to be a single call.\n",
    "#Most of the data isn't numeric, so we should find a way to be more helpful than this.\n",
    "#Also, what is the \"None\" printing at the end of this?\n",
    "print display.pprint_sa(display.describe_cols(allegations))\n",
    "print display.pprint_sa(display.describe_cols(citizens))\n",
    "print display.pprint_sa(display.describe_cols(officers))"
   ]
  },
  {
   "cell_type": "markdown",
   "metadata": {},
   "source": [
    "For this analysis, we will be removing several columns for the following reasons:\n",
    "\n",
    "1. To anonymize our data, names of officers and investiagtors have been removed.\n",
    "2. Many of the columns in Allegations are redundant as they code for other columns. We will preserve only the human readable columns.\n",
    "3. The Beat column has no data, so it will be removed.\n",
    "4. We will only focus on final outcomes, so the \"recommended\" columns have been removed from Allegations.\n",
    "5. We will be limiting our geographic analysis to Location, so the address information has been removed.\n",
    "\n",
    "We will also translate ApptDate, which specifies the number of days between the hire date and 1900-1-1, to the number of years working."
   ]
  },
  {
   "cell_type": "code",
   "execution_count": 122,
   "metadata": {
    "collapsed": false
   },
   "outputs": [],
   "source": [
    "import datetime\n",
    "\n",
    "#TODO: there is a typo in the \"OfficerFirst\" column in allegations.\n",
    "#Should pass this on to Kalven at Invisible Institute along with questions about data.\n",
    "allegations = utils.remove_cols(allegations,['OfficeFirst','OfficerLast','Investigator','AllegationCode','RecommendedFinding','RecommendedOutcome','FinalFinding','FinalOutcome','Beat','Add1','Add2','City'])  \n",
    "officers = utils.remove_cols(officers,['OfficerFirst','OfficerLast','Star'])\n",
    "\n",
    "#Convert appointment date days since 1900-1-1 to years prior to today\n",
    "def tenure(vector):\n",
    "    today = datetime.datetime.strftime(datetime.datetime.now(),'%Y-%m-%d')\n",
    "    started = np.add(np.datetime64('1900-01-01'),map(lambda x: np.timedelta64(int(x), 'D'),vector))\n",
    "    tenure = np.subtract(np.datetime64(today),started)\n",
    "    return np.divide(tenure,np.timedelta64(1,'D')) / 365\n",
    "\n",
    "#Impute median date for missing values\n",
    "officers['ApptDate'] = modify.replace_missing_vals(officers['ApptDate'], strategy='median')\n",
    "tenure_days = modify.combine_cols(officers,tenure,['ApptDate'])\n",
    "officers = utils.append_cols(officers,[tenure_days],['Tenure'])\n"
   ]
  },
  {
   "cell_type": "markdown",
   "metadata": {},
   "source": [
    "For ease of use, let's join our tables."
   ]
  },
  {
   "cell_type": "code",
   "execution_count": 123,
   "metadata": {
    "collapsed": false
   },
   "outputs": [],
   "source": [
    "master = utils.join(allegations,citizens,'left',['CRID'],['CRID'])\n",
    "\n",
    "#Rename Race and Gender, since citizens and officers have these columns\n",
    "temp_col_names = list(master.dtype.names)\n",
    "gender_index = temp_col_names.index(\"Gender\")\n",
    "race_index = temp_col_names.index(\"Race\")\n",
    "temp_col_names[gender_index] = \"CitizenGender\"\n",
    "temp_col_names[race_index] = \"CitizenRace\"\n",
    "master.dtype.names = tuple(temp_col_names)\n",
    "\n",
    "master = utils.join(master,officers,'left',['OfficerID'],['OfficerID'])\n",
    "\n",
    "temp_col_names = list(master.dtype.names)\n",
    "gender_index = temp_col_names.index(\"Gender\")\n",
    "race_index = temp_col_names.index(\"Race\")\n",
    "temp_col_names[gender_index] = \"OfficerGender\"\n",
    "temp_col_names[race_index] = \"OfficerRace\"\n",
    "master.dtype.names = tuple(temp_col_names)"
   ]
  },
  {
   "cell_type": "markdown",
   "metadata": {},
   "source": [
    "There are some allegations where no officer ID was provided. For this analysis, we will discard those allegations."
   ]
  },
  {
   "cell_type": "code",
   "execution_count": 124,
   "metadata": {
    "collapsed": false
   },
   "outputs": [],
   "source": [
    "#This is a pretty awkward way to remove nan, is there a better way I missed?\n",
    "master = modify.choose_rows_where(master,[{'func': modify.row_val_between, 'col_name': 'OfficerID', 'vals': [-np.inf,np.inf]}])"
   ]
  },
  {
   "cell_type": "markdown",
   "metadata": {},
   "source": [
    "Now, let's encode our data numerically"
   ]
  },
  {
   "cell_type": "code",
   "execution_count": 125,
   "metadata": {
    "collapsed": false
   },
   "outputs": [],
   "source": [
    "#Unit is interpreted as numeric, but we really want to analyze it categorically\n",
    "#There should be an easier way to treat a numeric column as categorical data\n",
    "master = utils.append_cols(master,master['Unit'].astype('|S10'),['UnitCat'])\n",
    "master = utils.remove_cols(master,['Unit'])\n",
    "master_data, master_classes = modify.label_encode(master)"
   ]
  },
  {
   "cell_type": "markdown",
   "metadata": {},
   "source": [
    "For convenience, we'll build every possible categorical directive"
   ]
  },
  {
   "cell_type": "code",
   "execution_count": 126,
   "metadata": {
    "collapsed": false,
    "scrolled": true
   },
   "outputs": [],
   "source": [
    "#Directives\n",
    "\n",
    "def cat_directives(array,classes):\n",
    "    cat_directives = {}\n",
    "    for column in classes:\n",
    "        cat_directives[column] = {v:[{'func': modify.row_val_eq, 'col_name': column, 'vals': i}] for i,v in enumerate(classes[column])}\n",
    "    return cat_directives\n",
    "\n",
    "where = cat_directives(master_data,master_classes)"
   ]
  },
  {
   "cell_type": "markdown",
   "metadata": {},
   "source": [
    "Now, we can build intuitive masks as combinations of our human-readable directives"
   ]
  },
  {
   "cell_type": "code",
   "execution_count": 127,
   "metadata": {
    "collapsed": false
   },
   "outputs": [],
   "source": [
    "#Masks\n",
    "\n",
    "#Gender\n",
    "female_officers = modify.where_all_are_true(master_data,where['OfficerGender']['F'])\n",
    "male_officers = modify.where_all_are_true(master_data,where['OfficerGender']['M'])\n",
    "\n",
    "female_citizens = modify.where_all_are_true(master_data,where['CitizenGender']['F'])\n",
    "male_citizens = modify.where_all_are_true(master_data,where['CitizenGender']['M'])\n",
    "\n",
    "#Race\n",
    "white_officers = modify.where_all_are_true(master_data,where['OfficerRace']['White'])\n",
    "black_officers = modify.where_all_are_true(master_data,where['OfficerRace']['Black'])\n",
    "hispanic_officers = modify.where_all_are_true(master_data,where['OfficerRace']['Hispanic'])\n",
    "\n",
    "white_citizens = modify.where_all_are_true(master_data,where['CitizenRace']['White'])\n",
    "black_citizens = modify.where_all_are_true(master_data,where['CitizenRace']['Black'])\n",
    "hispanic_citizens = modify.where_all_are_true(master_data,where['CitizenRace']['Hispanic'])\n",
    "\n",
    "#Cross-sections\n",
    "white_M_officers_black_F_citizens = modify.where_all_are_true(master_data,where['OfficerRace']['White']+\n",
    "                                                                          where['OfficerGender']['M']+\n",
    "                                                                          where['CitizenRace']['Black']+\n",
    "                                                                          where['CitizenGender']['F'])\n"
   ]
  },
  {
   "cell_type": "markdown",
   "metadata": {},
   "source": [
    "Let's generate a potentially interesting new feature from our existing data, and pull out all non-numeric data"
   ]
  },
  {
   "cell_type": "code",
   "execution_count": 128,
   "metadata": {
    "collapsed": false
   },
   "outputs": [],
   "source": [
    "duration = modify.combine_cols(master_data,np.subtract,['EndDate','StartDate'])\n",
    "durationDays = duration / np.timedelta64(1, 'D')\n",
    "duration_data = utils.append_cols(master_data,[durationDays],['InvestigationDuration'])\n",
    "           \n",
    "numeric_data = utils.remove_cols(master_data,['StartDate','EndDate','IncidentDate'])"
   ]
  },
  {
   "cell_type": "markdown",
   "metadata": {},
   "source": [
    "We understand what data we have, and we have some tools to easily slice and dice. Let's dive in and learn something."
   ]
  },
  {
   "cell_type": "code",
   "execution_count": 129,
   "metadata": {
    "collapsed": false,
    "scrolled": true
   },
   "outputs": [
    {
     "name": "stdout",
     "output_type": "stream",
     "text": [
      "0.116281305581\n"
     ]
    }
   ],
   "source": [
    "#Ex 1: What percentage of allegations have a black female citizen and a white male officer?\n",
    "print np.sum(white_M_officers_black_F_citizens.astype(np.float))/np.size(white_M_officers_black_F_citizens.astype(np.float))"
   ]
  },
  {
   "cell_type": "code",
   "execution_count": 130,
   "metadata": {
    "collapsed": false
   },
   "outputs": [
    {
     "data": {
      "text/plain": [
       "([<matplotlib.axis.XTick at 0x10a668b90>,\n",
       "  <matplotlib.axis.XTick at 0x10f7ea8d0>,\n",
       "  <matplotlib.axis.XTick at 0x110052cd0>,\n",
       "  <matplotlib.axis.XTick at 0x10fc28810>,\n",
       "  <matplotlib.axis.XTick at 0x10fc28d90>,\n",
       "  <matplotlib.axis.XTick at 0x10fba32d0>],\n",
       " <a list of 6 Text xticklabel objects>)"
      ]
     },
     "execution_count": 130,
     "metadata": {},
     "output_type": "execute_result"
    },
    {
     "data": {
      "image/png": "[encoded data removed]",
      "text/plain": [
       "<matplotlib.figure.Figure at 0x1102f9690>"
      ]
     },
     "metadata": {},
     "output_type": "display_data"
    }
   ],
   "source": [
    "#Ex 2: What is the breakdown of officers with complaints by race?\n",
    "#This seems a little clunky to me\n",
    "#Would be nice if plot_simple_histogram could handle categorical labels for me\n",
    "display.plot_simple_histogram(master_data['OfficerRace'],verbose=False)\n",
    "display.plt.xticks(range(len(master_classes['OfficerRace'])), master_classes['OfficerRace'])"
   ]
  },
  {
   "cell_type": "code",
   "execution_count": 131,
   "metadata": {
    "collapsed": false
   },
   "outputs": [
    {
     "data": {
      "image/png": "[encoded data removed]",
      "text/plain": [
       "<matplotlib.figure.Figure at 0x10fdcf810>"
      ]
     },
     "metadata": {},
     "output_type": "display_data"
    },
    {
     "data": {
      "image/png": "[encoded data removed]",
      "text/plain": [
       "<matplotlib.figure.Figure at 0x10fdcf810>"
      ]
     },
     "execution_count": 131,
     "metadata": {},
     "output_type": "execute_result"
    }
   ],
   "source": [
    "#Ex 3: What does the distribution of complaints look like?\n",
    "complaint_counter = display.Counter(numeric_data['OfficerID']) \n",
    "officer_list, complaint_counts = zip(*complaint_counter.items())    \n",
    "display.plot_simple_histogram(complaint_counts)"
   ]
  },
  {
   "cell_type": "code",
   "execution_count": 132,
   "metadata": {
    "collapsed": false
   },
   "outputs": [
    {
     "data": {
      "image/png": "[encoded data removed]",
      "text/plain": [
       "<matplotlib.figure.Figure at 0x110361d50>"
      ]
     },
     "execution_count": 132,
     "metadata": {},
     "output_type": "execute_result"
    },
    {
     "data": {
      "image/png": "[encoded data removed]",
      "text/plain": [
       "<matplotlib.figure.Figure at 0x10fb9a7d0>"
      ]
     },
     "metadata": {},
     "output_type": "display_data"
    },
    {
     "data": {
      "image/png": "[encoded data removed]",
      "text/plain": [
       "<matplotlib.figure.Figure at 0x110361d50>"
      ]
     },
     "metadata": {},
     "output_type": "display_data"
    }
   ],
   "source": [
    "#Ex 4: What can we learn from the 100 officers who receive the most complaints?\n",
    "#FYI: Wikipedia says 12,244 officers total, so this is roughly the top 1% of all Chicago officers.\n",
    "#Obviously, all officers do not have the same quantity and quality of interactions with citizens.\n",
    "#Need to account for this fact for any real analysis.\n",
    "#Median imputation makes histogram look unnatural\n",
    "#Top 100 Officers\n",
    "top_100 = counts.most_common(100)\n",
    "top_100_officers = map(lambda x: x[0],top_100)\n",
    "\n",
    "#We should add this to modify.py for categorical data\n",
    "def row_val_in(M,col_name,boundary):\n",
    "    return [x in boundary for x in M[col_name]]\n",
    "\n",
    "top_100_profile = modify.choose_rows_where(officers,[{'func': row_val_in, 'col_name': 'OfficerID', 'vals': top_100_officers}])\n",
    "\n",
    "#Can't check this against CPDB, their allegation counts are for the whole time period\n",
    "#Not just 2011 - present.\n",
    "display.plot_simple_histogram(master_data['Tenure'],verbose=False)\n",
    "display.plot_simple_histogram(top_100_profile['Tenure'],verbose=False)"
   ]
  },
  {
   "cell_type": "code",
   "execution_count": 12,
   "metadata": {
    "collapsed": false,
    "scrolled": true
   },
   "outputs": [
    {
     "name": "stdout",
     "output_type": "stream",
     "text": [
      "[('No Action Taken', 0.7631110897466712), ('Unknown', 0.19896168821804547), ('Reprimand', 0.010623467769071769), ('Violation Noted', 0.006874008556458203), ('1 Day Suspension', 0.00475892900062491), ('Resigned', 0.0038936691823294716), ('5 Day Suspension', 0.002355429505359804), ('2 Day Suspension', 0.002018939576022689), ('Penalty Not Served', 0.0016343796567802721), ('3 Day Suspension', 0.001201749747632553), ('10 Day Suspension', 0.0007691198384848339), ('15 Day Suspension', 0.0007210498485795318), ('', 0.0004326299091477191), ('20 Day Suspension', 0.0004326299091477191), ('30 Day Suspension', 0.00038455991924241697), ('25 Day Suspension', 0.00033648992933711484), ('Administrative Termination', 0.00033648992933711484), ('4 Day Suspension', 0.0002884199394318127), ('Separation', 0.00014420996971590636), ('45 Day Suspension', 0.00014420996971590636), ('Suspended over 30 Days', 0.00014420996971590636), ('Reinstated by Police Board', 9.613997981060424e-05), ('21 Day Suspension', 9.613997981060424e-05), ('7 Day Suspension', 4.806998990530212e-05), ('23 Day Suspension', 4.806998990530212e-05), ('12 Day Suspension', 4.806998990530212e-05), ('8 Day Suspension', 4.806998990530212e-05), ('6 Day Suspension', 4.806998990530212e-05)]\n"
     ]
    }
   ],
   "source": [
    "#Ex 5: What does the distribution of outcomes look like?\n",
    "#Hastily written, possibly not useful. Just curious.\n",
    "#Almost everything is unknown or no action taken\n",
    "def sortedFrequencies(array,classes,col_name):\n",
    "    if col_name not in classes:\n",
    "        raise ValueError('col_name must be categorical')\n",
    "    \n",
    "    counts = display.Counter(array[col_name])\n",
    "    total = float(sum(counts.values()))\n",
    "    \n",
    "    for key in counts:\n",
    "         counts[key] /= total\n",
    "    \n",
    "    count_dict = {}    \n",
    "    for value in counts:\n",
    "        count_dict[classes[col_name][value]] = counts[value]\n",
    "        \n",
    "    return sorted(count_dict.items(), key=lambda x: x[1],reverse=True)\n",
    "\n",
    "print sortedFrequencies(numeric_data,master_classes,'Outcome')\n",
    "    "
   ]
  },
  {
   "cell_type": "code",
   "execution_count": 133,
   "metadata": {
    "collapsed": false
   },
   "outputs": [
    {
     "data": {
      "text/plain": [
       "[<matplotlib.lines.Line2D at 0x11200d890>]"
      ]
     },
     "execution_count": 133,
     "metadata": {},
     "output_type": "execute_result"
    },
    {
     "data": {
      "image/png": "[encoded data removed]",
      "text/plain": [
       "<matplotlib.figure.Figure at 0x10db7b0d0>"
      ]
     },
     "metadata": {},
     "output_type": "display_data"
    }
   ],
   "source": [
    "#Ex 6: What has the number of complaints over time been like?\n",
    "#Looks seasonal (peaking in summer), and declining over time (coud the decline just be a collection issue?)\n",
    "def numpy_to_month(dt64):\n",
    "    ts = (dt64 - np.datetime64('1970-01-01T00:00:00Z')) / np.timedelta64(1, 's')\n",
    "    dt = datetime.datetime.utcfromtimestamp(ts)\n",
    "    d = datetime.date(dt.year, dt.month, 1) #round to month\n",
    "    return d\n",
    "\n",
    "months, counts = zip(*display.Counter(map(numpy_to_month,duration_data['IncidentDate'])).items())\n",
    "\n",
    "display.plt.plot_date(months,counts)"
   ]
  },
  {
   "cell_type": "code",
   "execution_count": 134,
   "metadata": {
    "collapsed": false
   },
   "outputs": [
    {
     "data": {
      "text/plain": [
       "([<matplotlib.axis.XTick at 0x10aab6710>,\n",
       "  <matplotlib.axis.XTick at 0x10abc1f50>,\n",
       "  <matplotlib.axis.XTick at 0x10fb57610>,\n",
       "  <matplotlib.axis.XTick at 0x10c7c6b10>,\n",
       "  <matplotlib.axis.XTick at 0x10c7d0290>,\n",
       "  <matplotlib.axis.XTick at 0x10c7d09d0>,\n",
       "  <matplotlib.axis.XTick at 0x10c7da150>,\n",
       "  <matplotlib.axis.XTick at 0x10c7da890>,\n",
       "  <matplotlib.axis.XTick at 0x10c7dafd0>,\n",
       "  <matplotlib.axis.XTick at 0x10c7e6750>,\n",
       "  <matplotlib.axis.XTick at 0x10c7e6e90>,\n",
       "  <matplotlib.axis.XTick at 0x10c7ef610>,\n",
       "  <matplotlib.axis.XTick at 0x10c7efd50>,\n",
       "  <matplotlib.axis.XTick at 0x10c7f94d0>,\n",
       "  <matplotlib.axis.XTick at 0x10c7f9c10>,\n",
       "  <matplotlib.axis.XTick at 0x10c804390>,\n",
       "  <matplotlib.axis.XTick at 0x10c804ad0>,\n",
       "  <matplotlib.axis.XTick at 0x10d2cb250>,\n",
       "  <matplotlib.axis.XTick at 0x10d2cb990>,\n",
       "  <matplotlib.axis.XTick at 0x10d2d5110>,\n",
       "  <matplotlib.axis.XTick at 0x10d2d5850>,\n",
       "  <matplotlib.axis.XTick at 0x10d2d5f90>,\n",
       "  <matplotlib.axis.XTick at 0x10d2e1710>,\n",
       "  <matplotlib.axis.XTick at 0x10d2e1e50>,\n",
       "  <matplotlib.axis.XTick at 0x10d2e95d0>,\n",
       "  <matplotlib.axis.XTick at 0x10d2e9d10>,\n",
       "  <matplotlib.axis.XTick at 0x10d2f2490>,\n",
       "  <matplotlib.axis.XTick at 0x10d2f2bd0>,\n",
       "  <matplotlib.axis.XTick at 0x10d2fd350>,\n",
       "  <matplotlib.axis.XTick at 0x10d2fda90>,\n",
       "  <matplotlib.axis.XTick at 0x10d308210>,\n",
       "  <matplotlib.axis.XTick at 0x10d308950>,\n",
       "  <matplotlib.axis.XTick at 0x10d3120d0>,\n",
       "  <matplotlib.axis.XTick at 0x10d312810>,\n",
       "  <matplotlib.axis.XTick at 0x10d312f50>,\n",
       "  <matplotlib.axis.XTick at 0x10d31c6d0>,\n",
       "  <matplotlib.axis.XTick at 0x10d31ce10>,\n",
       "  <matplotlib.axis.XTick at 0x10d327590>,\n",
       "  <matplotlib.axis.XTick at 0x10d327cd0>,\n",
       "  <matplotlib.axis.XTick at 0x10d330450>,\n",
       "  <matplotlib.axis.XTick at 0x10d330b90>,\n",
       "  <matplotlib.axis.XTick at 0x10d33d310>,\n",
       "  <matplotlib.axis.XTick at 0x10d33da50>,\n",
       "  <matplotlib.axis.XTick at 0x10d3af1d0>,\n",
       "  <matplotlib.axis.XTick at 0x10d3af910>,\n",
       "  <matplotlib.axis.XTick at 0x10d3b7090>,\n",
       "  <matplotlib.axis.XTick at 0x10d3b77d0>,\n",
       "  <matplotlib.axis.XTick at 0x10d3b7f10>,\n",
       "  <matplotlib.axis.XTick at 0x10d3c2690>,\n",
       "  <matplotlib.axis.XTick at 0x10d3c2dd0>,\n",
       "  <matplotlib.axis.XTick at 0x10d3cc550>,\n",
       "  <matplotlib.axis.XTick at 0x10d3ccc90>,\n",
       "  <matplotlib.axis.XTick at 0x10d3d8410>,\n",
       "  <matplotlib.axis.XTick at 0x10d3d8b50>,\n",
       "  <matplotlib.axis.XTick at 0x10d3e12d0>,\n",
       "  <matplotlib.axis.XTick at 0x10d3e1a10>,\n",
       "  <matplotlib.axis.XTick at 0x10d3ec190>,\n",
       "  <matplotlib.axis.XTick at 0x10d3ec8d0>,\n",
       "  <matplotlib.axis.XTick at 0x10d3f6050>,\n",
       "  <matplotlib.axis.XTick at 0x10d3f6790>,\n",
       "  <matplotlib.axis.XTick at 0x10d3f6ed0>,\n",
       "  <matplotlib.axis.XTick at 0x10d401650>,\n",
       "  <matplotlib.axis.XTick at 0x10d401d90>,\n",
       "  <matplotlib.axis.XTick at 0x10d40b510>,\n",
       "  <matplotlib.axis.XTick at 0x10d40bc50>,\n",
       "  <matplotlib.axis.XTick at 0x10d4153d0>,\n",
       "  <matplotlib.axis.XTick at 0x10d415b10>,\n",
       "  <matplotlib.axis.XTick at 0x10d41f290>,\n",
       "  <matplotlib.axis.XTick at 0x10d41f9d0>,\n",
       "  <matplotlib.axis.XTick at 0x10d42a150>,\n",
       "  <matplotlib.axis.XTick at 0x10d42a890>,\n",
       "  <matplotlib.axis.XTick at 0x10d42afd0>,\n",
       "  <matplotlib.axis.XTick at 0x10d434750>,\n",
       "  <matplotlib.axis.XTick at 0x10d434e90>,\n",
       "  <matplotlib.axis.XTick at 0x10d43f610>,\n",
       "  <matplotlib.axis.XTick at 0x10d43fd50>,\n",
       "  <matplotlib.axis.XTick at 0x10d4494d0>,\n",
       "  <matplotlib.axis.XTick at 0x10d449c10>,\n",
       "  <matplotlib.axis.XTick at 0x10d452390>,\n",
       "  <matplotlib.axis.XTick at 0x10d452ad0>,\n",
       "  <matplotlib.axis.XTick at 0x10d45e250>,\n",
       "  <matplotlib.axis.XTick at 0x10d45e990>,\n",
       "  <matplotlib.axis.XTick at 0x10d468110>,\n",
       "  <matplotlib.axis.XTick at 0x10d468850>,\n",
       "  <matplotlib.axis.XTick at 0x10d468f90>,\n",
       "  <matplotlib.axis.XTick at 0x10fae7710>,\n",
       "  <matplotlib.axis.XTick at 0x10fae7e50>,\n",
       "  <matplotlib.axis.XTick at 0x10faf05d0>,\n",
       "  <matplotlib.axis.XTick at 0x10faf0d10>,\n",
       "  <matplotlib.axis.XTick at 0x10fafa490>,\n",
       "  <matplotlib.axis.XTick at 0x10fafabd0>,\n",
       "  <matplotlib.axis.XTick at 0x10fb04350>,\n",
       "  <matplotlib.axis.XTick at 0x10fb04a90>,\n",
       "  <matplotlib.axis.XTick at 0x10fb11210>,\n",
       "  <matplotlib.axis.XTick at 0x10fb11950>,\n",
       "  <matplotlib.axis.XTick at 0x10fb1a0d0>,\n",
       "  <matplotlib.axis.XTick at 0x10fb1a810>,\n",
       "  <matplotlib.axis.XTick at 0x10fb1af50>,\n",
       "  <matplotlib.axis.XTick at 0x10fc656d0>,\n",
       "  <matplotlib.axis.XTick at 0x10fc65e10>,\n",
       "  <matplotlib.axis.XTick at 0x10fc70590>,\n",
       "  <matplotlib.axis.XTick at 0x10fc70cd0>,\n",
       "  <matplotlib.axis.XTick at 0x10fc7b450>,\n",
       "  <matplotlib.axis.XTick at 0x10fc7bb90>,\n",
       "  <matplotlib.axis.XTick at 0x10fc85310>,\n",
       "  <matplotlib.axis.XTick at 0x10fc85a50>,\n",
       "  <matplotlib.axis.XTick at 0x10fc901d0>,\n",
       "  <matplotlib.axis.XTick at 0x10fc90910>,\n",
       "  <matplotlib.axis.XTick at 0x10fc9b090>,\n",
       "  <matplotlib.axis.XTick at 0x10fc9b7d0>,\n",
       "  <matplotlib.axis.XTick at 0x10fc9bf10>,\n",
       "  <matplotlib.axis.XTick at 0x110243690>,\n",
       "  <matplotlib.axis.XTick at 0x110243dd0>],\n",
       " <a list of 113 Text xticklabel objects>)"
      ]
     },
     "execution_count": 134,
     "metadata": {},
     "output_type": "execute_result"
    },
    {
     "data": {
      "image/png": "[encoded data removed]",
      "text/plain": [
       "<matplotlib.figure.Figure at 0x10fd4b250>"
      ]
     },
     "metadata": {},
     "output_type": "display_data"
    },
    {
     "data": {
      "image/png": "[encoded data removed]",
      "text/plain": [
       "<matplotlib.figure.Figure at 0x10edb9ed0>"
      ]
     },
     "metadata": {},
     "output_type": "display_data"
    }
   ],
   "source": [
    "#How does it look to split complaints by location?\n",
    "#Very disproportionate. Locations 17,19,3,4 have almost all complaints.\n",
    "display.plot_simple_histogram(numeric_data['Location'],verbose=False)\n",
    "display.plt.xticks(range(len(master_classes['Location'])), master_classes['Location'])\n",
    "#Unit?\n",
    "#Still uneven, but more even than location.\n",
    "display.plot_simple_histogram(numeric_data['UnitCat'],verbose=False)\n",
    "display.plt.xticks(range(len(master_classes['UnitCat'])), master_classes['UnitCat'])"
   ]
  },
  {
   "cell_type": "code",
   "execution_count": 135,
   "metadata": {
    "collapsed": true
   },
   "outputs": [],
   "source": [
    "#Are there officers getting a lot of complaints not from the high yield locations?\n",
    "#What does the social network of concomitant officers look like?"
   ]
  },
  {
   "cell_type": "code",
   "execution_count": null,
   "metadata": {
    "collapsed": true
   },
   "outputs": [],
   "source": []
  }
 ],
 "metadata": {
  "kernelspec": {
   "display_name": "Python 2",
   "language": "python",
   "name": "python2"
  },
  "language_info": {
   "codemirror_mode": {
    "name": "ipython",
    "version": 2
   },
   "file_extension": ".py",
   "mimetype": "text/x-python",
   "name": "python",
   "nbconvert_exporter": "python",
   "pygments_lexer": "ipython2",
   "version": "2.7.10"
  }
 },
 "nbformat": 4,
 "nbformat_minor": 0
}
